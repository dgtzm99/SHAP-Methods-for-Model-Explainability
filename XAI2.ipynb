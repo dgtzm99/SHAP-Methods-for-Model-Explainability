{
 "cells": [
  {
   "cell_type": "markdown",
   "id": "4db7e0ef",
   "metadata": {},
   "source": []
  },
  {
   "cell_type": "markdown",
   "id": "e36d5dbd",
   "metadata": {},
   "source": [
    "# LIME\n",
    "Local Interpretable Model-agnostic Explanations\n",
    "- Can be used for any ML model (agnostic)\n",
    "- Good for black box models (can only see IN and OUT)\n",
    "![alt text](images/lime_ex.png)\n",
    "- Prediciton made in this example is highly non-linear\n",
    "- The model then learn some complex patterns as a combination of those 2 features.\n",
    "- Therefore, we zoom in to the **local area** and create a simple explanation without taking into account the whole model\n",
    "- LIME fits a linear interpretable model in such area which is often called **surrogate** as well. Creating a local approximation. <br> <br>\n",
    "- Using prior knowledge we can validate the explanations and create trust\n",
    "- ***Cons:***\n",
    "    - Explanations are locally faithful, but not necessarily globally <br>\n",
    "- **Math used in LIME:** <br>\n",
    "$x$ - input data point <br>\n",
    "$f$ - complex model <br>\n",
    "$g$ - Simple interpretable model (**surrogate**) <br>\n",
    "$G$ - Family of interpretable models(linear reg and its variants) <br>\n",
    "$\\pi$ - Defines local neighbourhood of $x$ data point, with some sort of **proximity measure**<br>\n",
    "$\\mathcal{L}(f, g, \\pi_x)$ - we look for an approximation of model $f$ by the simple model $g$ in the neighbourhood of our datapoint x $(\\pi_x)$ <br>\n",
    "$\\Omega(g)$ - regularize (simplify) the complexity of our simple **surrogate model** $(g)$ <br>\n",
    "\n",
    "$$ \\xi(x) = argmin_{g \\in G} \\mathcal{L}(f, g, \\pi_x) + \\Omega(g) $$ <br>\n",
    "- We look for a simple model $g$ that looks for the closest approximation of model $f$, and additionally stay as simple as possible ($\\Omega(g)$)"
   ]
  },
  {
   "cell_type": "code",
   "execution_count": 1,
   "id": "f2800623",
   "metadata": {},
   "outputs": [],
   "source": [
    "from sklearn.ensemble import RandomForestClassifier\n",
    "from sklearn.metrics import f1_score, accuracy_score\n",
    "from interpret.blackbox import LimeTabular\n",
    "from interpret import show"
   ]
  },
  {
   "cell_type": "code",
   "execution_count": null,
   "id": "08607655",
   "metadata": {},
   "outputs": [],
   "source": []
  }
 ],
 "metadata": {
  "kernelspec": {
   "display_name": "Python 3 (ipykernel)",
   "language": "python",
   "name": "python3"
  },
  "language_info": {
   "codemirror_mode": {
    "name": "ipython",
    "version": 3
   },
   "file_extension": ".py",
   "mimetype": "text/x-python",
   "name": "python",
   "nbconvert_exporter": "python",
   "pygments_lexer": "ipython3",
   "version": "3.9.7"
  }
 },
 "nbformat": 4,
 "nbformat_minor": 5
}
