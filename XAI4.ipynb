{
 "cells": [
  {
   "cell_type": "code",
   "execution_count": 1,
   "id": "63f6e5d3",
   "metadata": {},
   "outputs": [],
   "source": [
    "import pandas as pd \n",
    "from sklearn.model_selection import train_test_split\n",
    "from imblearn.over_sampling import RandomOverSampler\n",
    "from sklearn.ensemble import RandomForestClassifier\n",
    "from sklearn.metrics import f1_score, accuracy_score"
   ]
  },
  {
   "cell_type": "markdown",
   "id": "a5e3b392",
   "metadata": {},
   "source": [
    "# Counterfactual Explanation\n",
    "![alt text](images/counterfactual_ex.png)\n",
    "- E.g. Right now your prediction is 90% stroke.\n",
    "    - **If you would decrease your BMI index to 25**, the prediction would be 70% no stroke\n",
    "    - Bold part is the **Counterfactual**\n",
    "<br>\n",
    "- **A Counterfactual(also called Contrastive Explanations)** is the smallest change in the input features, that changes the prediction to another (predefined) output"
   ]
  },
  {
   "cell_type": "code",
   "execution_count": null,
   "id": "7290cf0a",
   "metadata": {},
   "outputs": [],
   "source": []
  },
  {
   "cell_type": "code",
   "execution_count": null,
   "id": "fefddfd8",
   "metadata": {},
   "outputs": [],
   "source": []
  }
 ],
 "metadata": {
  "kernelspec": {
   "display_name": "Python 3 (ipykernel)",
   "language": "python",
   "name": "python3"
  },
  "language_info": {
   "codemirror_mode": {
    "name": "ipython",
    "version": 3
   },
   "file_extension": ".py",
   "mimetype": "text/x-python",
   "name": "python",
   "nbconvert_exporter": "python",
   "pygments_lexer": "ipython3",
   "version": "3.9.7"
  }
 },
 "nbformat": 4,
 "nbformat_minor": 5
}
