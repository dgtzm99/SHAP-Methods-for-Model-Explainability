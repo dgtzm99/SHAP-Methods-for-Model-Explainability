{
 "cells": [
  {
   "cell_type": "markdown",
   "id": "56976b17",
   "metadata": {},
   "source": [
    "# Test Case: Deep Learning"
   ]
  },
  {
   "cell_type": "code",
   "execution_count": 19,
   "id": "81a1bcb7",
   "metadata": {},
   "outputs": [
    {
     "name": "stderr",
     "output_type": "stream",
     "text": [
      "/Users/dgtzm99/opt/anaconda3/envs/keras_env/lib/python3.7/site-packages/tqdm/auto.py:22: TqdmWarning: IProgress not found. Please update jupyter and ipywidgets. See https://ipywidgets.readthedocs.io/en/stable/user_install.html\n",
      "  from .autonotebook import tqdm as notebook_tqdm\n"
     ]
    }
   ],
   "source": [
    "#imports\n",
    "import math\n",
    "import pandas_datareader as web\n",
    "import numpy as np\n",
    "import pandas as pd\n",
    "import datetime\n",
    "import shap\n",
    "from sklearn.metrics import mean_squared_error as mse\n",
    "from sklearn.preprocessing import MinMaxScaler\n",
    "from keras.models import Sequential\n",
    "from keras.layers import Dense, LSTM, Flatten, Dropout\n",
    "import matplotlib.pyplot as plt\n",
    "plt.style.use('fivethirtyeight')"
   ]
  },
  {
   "cell_type": "code",
   "execution_count": 2,
   "id": "8cc3cd6e",
   "metadata": {},
   "outputs": [
    {
     "name": "stdout",
     "output_type": "stream",
     "text": [
      "2.0.0\r\n"
     ]
    }
   ],
   "source": [
    "# check tensorflow version\n",
    "!python -c 'import tensorflow as tf; print(tf.__version__)'"
   ]
  },
  {
   "cell_type": "code",
   "execution_count": 3,
   "id": "860aef15",
   "metadata": {},
   "outputs": [
    {
     "name": "stdout",
     "output_type": "stream",
     "text": [
      "Using TensorFlow backend.\n",
      "2.3.1\n"
     ]
    }
   ],
   "source": [
    "# check keras version\n",
    "!python -c 'import keras as k; print(k.__version__)'"
   ]
  },
  {
   "cell_type": "code",
   "execution_count": 4,
   "id": "64ea8b9a",
   "metadata": {},
   "outputs": [],
   "source": [
    "# Stock Variables\n",
    "ASSET = 'BTC'\n",
    "START = '2012-01-01'\n",
    "END = '2021-12-17'\n",
    "YRS = 2\n",
    "TRAIN_LEN = 0.8 # 80%\n",
    "TIME_STEPS = 15"
   ]
  },
  {
   "cell_type": "markdown",
   "id": "e6208f20",
   "metadata": {},
   "source": [
    "# Get data"
   ]
  },
  {
   "cell_type": "code",
   "execution_count": 5,
   "id": "a172c985",
   "metadata": {},
   "outputs": [
    {
     "data": {
      "text/html": [
       "<div>\n",
       "<style scoped>\n",
       "    .dataframe tbody tr th:only-of-type {\n",
       "        vertical-align: middle;\n",
       "    }\n",
       "\n",
       "    .dataframe tbody tr th {\n",
       "        vertical-align: top;\n",
       "    }\n",
       "\n",
       "    .dataframe thead tr th {\n",
       "        text-align: left;\n",
       "    }\n",
       "\n",
       "    .dataframe thead tr:last-of-type th {\n",
       "        text-align: right;\n",
       "    }\n",
       "</style>\n",
       "<table border=\"1\" class=\"dataframe\">\n",
       "  <thead>\n",
       "    <tr>\n",
       "      <th>Attributes</th>\n",
       "      <th>Adj Close</th>\n",
       "      <th>Close</th>\n",
       "      <th>High</th>\n",
       "      <th>Low</th>\n",
       "      <th>Open</th>\n",
       "      <th>Volume</th>\n",
       "    </tr>\n",
       "    <tr>\n",
       "      <th>Symbols</th>\n",
       "      <th>BTC-USD</th>\n",
       "      <th>BTC-USD</th>\n",
       "      <th>BTC-USD</th>\n",
       "      <th>BTC-USD</th>\n",
       "      <th>BTC-USD</th>\n",
       "      <th>BTC-USD</th>\n",
       "    </tr>\n",
       "    <tr>\n",
       "      <th>Date</th>\n",
       "      <th></th>\n",
       "      <th></th>\n",
       "      <th></th>\n",
       "      <th></th>\n",
       "      <th></th>\n",
       "      <th></th>\n",
       "    </tr>\n",
       "  </thead>\n",
       "  <tbody>\n",
       "    <tr>\n",
       "      <th>2022-03-22</th>\n",
       "      <td>42358.808594</td>\n",
       "      <td>42358.808594</td>\n",
       "      <td>43124.707031</td>\n",
       "      <td>40948.281250</td>\n",
       "      <td>41074.105469</td>\n",
       "      <td>32004652376</td>\n",
       "    </tr>\n",
       "    <tr>\n",
       "      <th>2022-03-23</th>\n",
       "      <td>42892.957031</td>\n",
       "      <td>42892.957031</td>\n",
       "      <td>42893.507812</td>\n",
       "      <td>41877.507812</td>\n",
       "      <td>42364.378906</td>\n",
       "      <td>25242943069</td>\n",
       "    </tr>\n",
       "    <tr>\n",
       "      <th>2022-03-24</th>\n",
       "      <td>43960.933594</td>\n",
       "      <td>43960.933594</td>\n",
       "      <td>44131.855469</td>\n",
       "      <td>42726.164062</td>\n",
       "      <td>42886.652344</td>\n",
       "      <td>31042992291</td>\n",
       "    </tr>\n",
       "    <tr>\n",
       "      <th>2022-03-25</th>\n",
       "      <td>44348.730469</td>\n",
       "      <td>44348.730469</td>\n",
       "      <td>44999.492188</td>\n",
       "      <td>43706.285156</td>\n",
       "      <td>43964.546875</td>\n",
       "      <td>30574413034</td>\n",
       "    </tr>\n",
       "    <tr>\n",
       "      <th>2022-03-26</th>\n",
       "      <td>44399.074219</td>\n",
       "      <td>44399.074219</td>\n",
       "      <td>44531.281250</td>\n",
       "      <td>44168.675781</td>\n",
       "      <td>44334.335938</td>\n",
       "      <td>16318618624</td>\n",
       "    </tr>\n",
       "  </tbody>\n",
       "</table>\n",
       "</div>"
      ],
      "text/plain": [
       "Attributes     Adj Close         Close          High           Low  \\\n",
       "Symbols          BTC-USD       BTC-USD       BTC-USD       BTC-USD   \n",
       "Date                                                                 \n",
       "2022-03-22  42358.808594  42358.808594  43124.707031  40948.281250   \n",
       "2022-03-23  42892.957031  42892.957031  42893.507812  41877.507812   \n",
       "2022-03-24  43960.933594  43960.933594  44131.855469  42726.164062   \n",
       "2022-03-25  44348.730469  44348.730469  44999.492188  43706.285156   \n",
       "2022-03-26  44399.074219  44399.074219  44531.281250  44168.675781   \n",
       "\n",
       "Attributes          Open       Volume  \n",
       "Symbols          BTC-USD      BTC-USD  \n",
       "Date                                   \n",
       "2022-03-22  41074.105469  32004652376  \n",
       "2022-03-23  42364.378906  25242943069  \n",
       "2022-03-24  42886.652344  31042992291  \n",
       "2022-03-25  43964.546875  30574413034  \n",
       "2022-03-26  44334.335938  16318618624  "
      ]
     },
     "execution_count": 5,
     "metadata": {},
     "output_type": "execute_result"
    }
   ],
   "source": [
    "# data = web.DataReader('AAPL', data_source='yahoo', start='2012-01-01', \n",
    "#                       end='2019-12-17')\n",
    "today = datetime.date.today()\n",
    "data = web.get_data_yahoo([ASSET + '-USD'], \n",
    "                         start=datetime.datetime(today.year-YRS\n",
    "                                                 , 1, 1), \n",
    "                         end=today)#['Close']\n",
    "\n",
    "data.tail()"
   ]
  },
  {
   "cell_type": "code",
   "execution_count": 6,
   "id": "976d5527",
   "metadata": {},
   "outputs": [],
   "source": [
    "# Deleting Symbol header Column names\n",
    "data = data.droplevel(level=1, axis=1)"
   ]
  },
  {
   "cell_type": "code",
   "execution_count": 8,
   "id": "33fd187f",
   "metadata": {},
   "outputs": [
    {
     "name": "stdout",
     "output_type": "stream",
     "text": [
      "<class 'pandas.core.frame.DataFrame'>\n",
      "DatetimeIndex: 816 entries, 2020-01-01 to 2022-03-26\n",
      "Data columns (total 6 columns):\n",
      " #   Column     Non-Null Count  Dtype  \n",
      "---  ------     --------------  -----  \n",
      " 0   Adj Close  816 non-null    float64\n",
      " 1   Close      816 non-null    float64\n",
      " 2   High       816 non-null    float64\n",
      " 3   Low        816 non-null    float64\n",
      " 4   Open       816 non-null    float64\n",
      " 5   Volume     816 non-null    int64  \n",
      "dtypes: float64(5), int64(1)\n",
      "memory usage: 44.6 KB\n"
     ]
    }
   ],
   "source": [
    "# Getting data summary\n",
    "data.info()"
   ]
  },
  {
   "cell_type": "markdown",
   "id": "31f80fe1",
   "metadata": {},
   "source": [
    "# Normalize the data\n",
    "Normalizing is usually used since LSTM is sensitive to magnitude in the dataset\n",
    "\n",
    "Which is better?\n",
    "- Standard scaler\n",
    "- MinMaxScaler\n",
    "- Normalize"
   ]
  },
  {
   "cell_type": "code",
   "execution_count": 9,
   "id": "3a66e458",
   "metadata": {},
   "outputs": [
    {
     "data": {
      "text/html": [
       "<div>\n",
       "<style scoped>\n",
       "    .dataframe tbody tr th:only-of-type {\n",
       "        vertical-align: middle;\n",
       "    }\n",
       "\n",
       "    .dataframe tbody tr th {\n",
       "        vertical-align: top;\n",
       "    }\n",
       "\n",
       "    .dataframe thead th {\n",
       "        text-align: right;\n",
       "    }\n",
       "</style>\n",
       "<table border=\"1\" class=\"dataframe\">\n",
       "  <thead>\n",
       "    <tr style=\"text-align: right;\">\n",
       "      <th></th>\n",
       "      <th>0</th>\n",
       "      <th>1</th>\n",
       "      <th>2</th>\n",
       "      <th>3</th>\n",
       "      <th>4</th>\n",
       "      <th>5</th>\n",
       "    </tr>\n",
       "  </thead>\n",
       "  <tbody>\n",
       "    <tr>\n",
       "      <th>811</th>\n",
       "      <td>0.626363</td>\n",
       "      <td>0.626363</td>\n",
       "      <td>0.609615</td>\n",
       "      <td>0.619961</td>\n",
       "      <td>0.560259</td>\n",
       "      <td>-0.331681</td>\n",
       "    </tr>\n",
       "    <tr>\n",
       "      <th>812</th>\n",
       "      <td>0.654512</td>\n",
       "      <td>0.654512</td>\n",
       "      <td>0.597754</td>\n",
       "      <td>0.670459</td>\n",
       "      <td>0.628191</td>\n",
       "      <td>-0.667497</td>\n",
       "    </tr>\n",
       "    <tr>\n",
       "      <th>813</th>\n",
       "      <td>0.710792</td>\n",
       "      <td>0.710792</td>\n",
       "      <td>0.661288</td>\n",
       "      <td>0.716578</td>\n",
       "      <td>0.655689</td>\n",
       "      <td>-0.379441</td>\n",
       "    </tr>\n",
       "    <tr>\n",
       "      <th>814</th>\n",
       "      <td>0.731228</td>\n",
       "      <td>0.731228</td>\n",
       "      <td>0.705803</td>\n",
       "      <td>0.769842</td>\n",
       "      <td>0.712439</td>\n",
       "      <td>-0.402713</td>\n",
       "    </tr>\n",
       "    <tr>\n",
       "      <th>815</th>\n",
       "      <td>0.733881</td>\n",
       "      <td>0.733881</td>\n",
       "      <td>0.681781</td>\n",
       "      <td>0.794970</td>\n",
       "      <td>0.731908</td>\n",
       "      <td>-1.110718</td>\n",
       "    </tr>\n",
       "  </tbody>\n",
       "</table>\n",
       "</div>"
      ],
      "text/plain": [
       "            0         1         2         3         4         5\n",
       "811  0.626363  0.626363  0.609615  0.619961  0.560259 -0.331681\n",
       "812  0.654512  0.654512  0.597754  0.670459  0.628191 -0.667497\n",
       "813  0.710792  0.710792  0.661288  0.716578  0.655689 -0.379441\n",
       "814  0.731228  0.731228  0.705803  0.769842  0.712439 -0.402713\n",
       "815  0.733881  0.733881  0.681781  0.794970  0.731908 -1.110718"
      ]
     },
     "execution_count": 9,
     "metadata": {},
     "output_type": "execute_result"
    }
   ],
   "source": [
    "from sklearn.preprocessing import StandardScaler\n",
    "scaler = StandardScaler()\n",
    "scaler = scaler.fit(data)\n",
    "data_scaled = scaler.transform(data)\n",
    "pd.DataFrame(data_scaled).tail()"
   ]
  },
  {
   "cell_type": "code",
   "execution_count": 10,
   "id": "d97c7988",
   "metadata": {},
   "outputs": [
    {
     "data": {
      "text/html": [
       "<div>\n",
       "<style scoped>\n",
       "    .dataframe tbody tr th:only-of-type {\n",
       "        vertical-align: middle;\n",
       "    }\n",
       "\n",
       "    .dataframe tbody tr th {\n",
       "        vertical-align: top;\n",
       "    }\n",
       "\n",
       "    .dataframe thead th {\n",
       "        text-align: right;\n",
       "    }\n",
       "</style>\n",
       "<table border=\"1\" class=\"dataframe\">\n",
       "  <thead>\n",
       "    <tr style=\"text-align: right;\">\n",
       "      <th></th>\n",
       "      <th>0</th>\n",
       "      <th>1</th>\n",
       "      <th>2</th>\n",
       "      <th>3</th>\n",
       "      <th>4</th>\n",
       "      <th>5</th>\n",
       "    </tr>\n",
       "  </thead>\n",
       "  <tbody>\n",
       "    <tr>\n",
       "      <th>811</th>\n",
       "      <td>0.597291</td>\n",
       "      <td>0.597291</td>\n",
       "      <td>0.595559</td>\n",
       "      <td>0.591590</td>\n",
       "      <td>0.576709</td>\n",
       "      <td>0.058315</td>\n",
       "    </tr>\n",
       "    <tr>\n",
       "      <th>812</th>\n",
       "      <td>0.605824</td>\n",
       "      <td>0.605824</td>\n",
       "      <td>0.591916</td>\n",
       "      <td>0.606511</td>\n",
       "      <td>0.597338</td>\n",
       "      <td>0.038352</td>\n",
       "    </tr>\n",
       "    <tr>\n",
       "      <th>813</th>\n",
       "      <td>0.622885</td>\n",
       "      <td>0.622885</td>\n",
       "      <td>0.611430</td>\n",
       "      <td>0.620139</td>\n",
       "      <td>0.605688</td>\n",
       "      <td>0.055475</td>\n",
       "    </tr>\n",
       "    <tr>\n",
       "      <th>814</th>\n",
       "      <td>0.629080</td>\n",
       "      <td>0.629080</td>\n",
       "      <td>0.625103</td>\n",
       "      <td>0.635877</td>\n",
       "      <td>0.622922</td>\n",
       "      <td>0.054092</td>\n",
       "    </tr>\n",
       "    <tr>\n",
       "      <th>815</th>\n",
       "      <td>0.629885</td>\n",
       "      <td>0.629885</td>\n",
       "      <td>0.617725</td>\n",
       "      <td>0.643302</td>\n",
       "      <td>0.628834</td>\n",
       "      <td>0.012004</td>\n",
       "    </tr>\n",
       "  </tbody>\n",
       "</table>\n",
       "</div>"
      ],
      "text/plain": [
       "            0         1         2         3         4         5\n",
       "811  0.597291  0.597291  0.595559  0.591590  0.576709  0.058315\n",
       "812  0.605824  0.605824  0.591916  0.606511  0.597338  0.038352\n",
       "813  0.622885  0.622885  0.611430  0.620139  0.605688  0.055475\n",
       "814  0.629080  0.629080  0.625103  0.635877  0.622922  0.054092\n",
       "815  0.629885  0.629885  0.617725  0.643302  0.628834  0.012004"
      ]
     },
     "execution_count": 10,
     "metadata": {},
     "output_type": "execute_result"
    }
   ],
   "source": [
    "scaler = MinMaxScaler(feature_range=(0, 1)) #Also try QuantileTransformer\n",
    "data_scaled = scaler.fit_transform(data)\n",
    "pd.DataFrame(data_scaled).tail()"
   ]
  },
  {
   "cell_type": "markdown",
   "id": "9187e781",
   "metadata": {},
   "source": [
    "# Reshape data for LSTM\n",
    "We reshape input as `(n_samples, timesteps, n_features)`"
   ]
  },
  {
   "cell_type": "code",
   "execution_count": 11,
   "id": "87c83298",
   "metadata": {},
   "outputs": [
    {
     "data": {
      "text/plain": [
       "(816, 6)"
      ]
     },
     "execution_count": 11,
     "metadata": {},
     "output_type": "execute_result"
    }
   ],
   "source": [
    "# originial shape [n_samples, n_features]\n",
    "data_scaled.shape"
   ]
  },
  {
   "cell_type": "code",
   "execution_count": 12,
   "id": "6f1168d3",
   "metadata": {},
   "outputs": [],
   "source": [
    "X_train = []\n",
    "y_train = []\n",
    "\n",
    "n_future = 1 # number of day we look into the future\n",
    "# We are predicting Close price\n",
    "target = 1 # Close col\n",
    "\n",
    "for i in range(TIME_STEPS, data_scaled.shape[0] - n_future +1):\n",
    "    X_train.append(data_scaled[i - TIME_STEPS:i, 0:data_scaled.shape[1]])\n",
    "    y_train.append(data_scaled[i + n_future - 1:i + n_future, target])\n",
    "    \n",
    "X_train, y_train = np.array(X_train), np.array(y_train)"
   ]
  },
  {
   "cell_type": "code",
   "execution_count": 13,
   "id": "89366c8b",
   "metadata": {},
   "outputs": [
    {
     "name": "stdout",
     "output_type": "stream",
     "text": [
      "X_train shape =  (801, 15, 6)\n",
      "y_train shape =  (801, 1)\n"
     ]
    }
   ],
   "source": [
    "# Keep in mind n_samples gets reduced due to the TIME_STEPS\n",
    "print('X_train shape = ', X_train.shape) \n",
    "print('y_train shape = ', y_train.shape)"
   ]
  },
  {
   "cell_type": "markdown",
   "id": "5b69e2e6",
   "metadata": {},
   "source": [
    "# Fit LSTM model"
   ]
  },
  {
   "cell_type": "code",
   "execution_count": 14,
   "id": "02a9f7eb",
   "metadata": {},
   "outputs": [
    {
     "name": "stderr",
     "output_type": "stream",
     "text": [
      "2022-03-26 18:45:14.308844: I tensorflow/core/platform/cpu_feature_guard.cc:145] This TensorFlow binary is optimized with Intel(R) MKL-DNN to use the following CPU instructions in performance critical operations:  SSE4.1 SSE4.2\n",
      "To enable them in non-MKL-DNN operations, rebuild TensorFlow with the appropriate compiler flags.\n",
      "2022-03-26 18:45:14.310381: I tensorflow/core/common_runtime/process_util.cc:115] Creating new thread pool with default inter op setting: 8. Tune using inter_op_parallelism_threads for best performance.\n"
     ]
    },
    {
     "name": "stdout",
     "output_type": "stream",
     "text": [
      "Model: \"sequential_1\"\n",
      "_________________________________________________________________\n",
      "Layer (type)                 Output Shape              Param #   \n",
      "=================================================================\n",
      "lstm_1 (LSTM)                (None, 15, 64)            18176     \n",
      "_________________________________________________________________\n",
      "lstm_2 (LSTM)                (None, 32)                12416     \n",
      "_________________________________________________________________\n",
      "dropout_1 (Dropout)          (None, 32)                0         \n",
      "_________________________________________________________________\n",
      "dense_1 (Dense)              (None, 1)                 33        \n",
      "=================================================================\n",
      "Total params: 30,625\n",
      "Trainable params: 30,625\n",
      "Non-trainable params: 0\n",
      "_________________________________________________________________\n"
     ]
    }
   ],
   "source": [
    "model = Sequential()\n",
    "model.add(LSTM(64, activation='relu', input_shape=(X_train.shape[1], \n",
    "                            X_train.shape[2]), return_sequences=True))\n",
    "model.add(LSTM(32, activation='relu', return_sequences=False))\n",
    "model.add(Dropout(0.2))\n",
    "model.add(Dense(y_train.shape[1]))\n",
    "\n",
    "model.compile(optimizer='adam', loss='mse')\n",
    "model.summary()"
   ]
  },
  {
   "cell_type": "code",
   "execution_count": 15,
   "id": "dc5b839f",
   "metadata": {},
   "outputs": [
    {
     "name": "stdout",
     "output_type": "stream",
     "text": [
      "Train on 720 samples, validate on 81 samples\n",
      "Epoch 1/5\n",
      "720/720 [==============================] - 5s 7ms/step - loss: 0.0284 - val_loss: 0.0048\n",
      "Epoch 2/5\n",
      "720/720 [==============================] - 3s 4ms/step - loss: 0.0099 - val_loss: 0.0033\n",
      "Epoch 3/5\n",
      "720/720 [==============================] - 3s 4ms/step - loss: 0.0081 - val_loss: 0.0043\n",
      "Epoch 4/5\n",
      "720/720 [==============================] - 3s 4ms/step - loss: 0.0080 - val_loss: 0.0026\n",
      "Epoch 5/5\n",
      "720/720 [==============================] - 3s 4ms/step - loss: 0.0080 - val_loss: 0.0020\n"
     ]
    }
   ],
   "source": [
    "# fit the model\n",
    "history = model.fit(X_train, y_train, epochs=5, batch_size=16, \n",
    "                    validation_split=0.1, verbose=1)"
   ]
  },
  {
   "cell_type": "code",
   "execution_count": 16,
   "id": "0f1da620",
   "metadata": {},
   "outputs": [
    {
     "data": {
      "text/plain": [
       "<matplotlib.legend.Legend at 0x7f80fed21fd0>"
      ]
     },
     "execution_count": 16,
     "metadata": {},
     "output_type": "execute_result"
    },
    {
     "data": {
      "image/png": "[encoded data removed]",
      "text/plain": [
       "<Figure size 432x288 with 1 Axes>"
      ]
     },
     "metadata": {},
     "output_type": "display_data"
    }
   ],
   "source": [
    "plt.plot(history.history['loss'], label='Training loss')\n",
    "plt.plot(history.history['val_loss'], label='Validation loss')\n",
    "plt.legend()"
   ]
  },
  {
   "cell_type": "markdown",
   "id": "b18d7596",
   "metadata": {},
   "source": [
    "# Make predictions"
   ]
  },
  {
   "cell_type": "markdown",
   "id": "56715e2a",
   "metadata": {},
   "source": [
    "Here we take the Keras model trained above and explain why it makes different predictions for different individuals. SHAP expects model functions to take a 2D numpy array as input, so we define a wrapper function around the original Keras predict function."
   ]
  },
  {
   "cell_type": "code",
   "execution_count": 23,
   "id": "47d0fb55",
   "metadata": {},
   "outputs": [],
   "source": [
    "def f(X):\n",
    "    return model.predict([X[:,i] for i in range(X.shape[1])]).flatten()"
   ]
  },
  {
   "cell_type": "code",
   "execution_count": 24,
   "id": "4b815c46",
   "metadata": {},
   "outputs": [
    {
     "name": "stdout",
     "output_type": "stream",
     "text": [
      "Provided model function fails when applied to the provided data set.\n"
     ]
    },
    {
     "ename": "ValueError",
     "evalue": "Error when checking model input: the list of Numpy arrays that you are passing to your model is not the size the model expected. Expected to see 1 array(s), but instead got the following list of 15 arrays: [array([[0.03561545, 0.03561545, 0.03029567, 0.0492647 , 0.03505058,\n        0.01863826],\n       [0.03218546, 0.03218546, 0.02963105, 0.04541606, 0.03517303,\n        0.02524091],\n       [0.03792726, 0...",
     "output_type": "error",
     "traceback": [
      "\u001b[0;31m---------------------------------------------------------------------------\u001b[0m",
      "\u001b[0;31mValueError\u001b[0m                                Traceback (most recent call last)",
      "\u001b[0;32m/var/folders/75/5mh9hp1s1xn2ypzg82bcvlnr0000gn/T/ipykernel_53443/3162779547.py\u001b[0m in \u001b[0;36m<module>\u001b[0;34m\u001b[0m\n\u001b[0;32m----> 1\u001b[0;31m \u001b[0mexplainer\u001b[0m \u001b[0;34m=\u001b[0m \u001b[0mshap\u001b[0m\u001b[0;34m.\u001b[0m\u001b[0mKernelExplainer\u001b[0m\u001b[0;34m(\u001b[0m\u001b[0mf\u001b[0m\u001b[0;34m,\u001b[0m \u001b[0mX_train\u001b[0m\u001b[0;34m[\u001b[0m\u001b[0;34m:\u001b[0m\u001b[0;36m50\u001b[0m\u001b[0;34m,\u001b[0m\u001b[0;34m:\u001b[0m\u001b[0;34m]\u001b[0m\u001b[0;34m)\u001b[0m\u001b[0;34m\u001b[0m\u001b[0;34m\u001b[0m\u001b[0m\n\u001b[0m\u001b[1;32m      2\u001b[0m \u001b[0mshap_values\u001b[0m \u001b[0;34m=\u001b[0m \u001b[0mexplainer\u001b[0m\u001b[0;34m.\u001b[0m\u001b[0mshap_values\u001b[0m\u001b[0;34m(\u001b[0m\u001b[0mX_train\u001b[0m\u001b[0;34m[\u001b[0m\u001b[0;36m299\u001b[0m\u001b[0;34m,\u001b[0m\u001b[0;34m:\u001b[0m\u001b[0;34m]\u001b[0m\u001b[0;34m,\u001b[0m \u001b[0mnsamples\u001b[0m\u001b[0;34m=\u001b[0m\u001b[0;36m500\u001b[0m\u001b[0;34m)\u001b[0m\u001b[0;34m\u001b[0m\u001b[0;34m\u001b[0m\u001b[0m\n",
      "\u001b[0;32m~/opt/anaconda3/envs/keras_env/lib/python3.7/site-packages/shap/explainers/_kernel.py\u001b[0m in \u001b[0;36m__init__\u001b[0;34m(self, model, data, link, **kwargs)\u001b[0m\n\u001b[1;32m     67\u001b[0m         \u001b[0mself\u001b[0m\u001b[0;34m.\u001b[0m\u001b[0mkeep_index_ordered\u001b[0m \u001b[0;34m=\u001b[0m \u001b[0mkwargs\u001b[0m\u001b[0;34m.\u001b[0m\u001b[0mget\u001b[0m\u001b[0;34m(\u001b[0m\u001b[0;34m\"keep_index_ordered\"\u001b[0m\u001b[0;34m,\u001b[0m \u001b[0;32mFalse\u001b[0m\u001b[0;34m)\u001b[0m\u001b[0;34m\u001b[0m\u001b[0;34m\u001b[0m\u001b[0m\n\u001b[1;32m     68\u001b[0m         \u001b[0mself\u001b[0m\u001b[0;34m.\u001b[0m\u001b[0mdata\u001b[0m \u001b[0;34m=\u001b[0m \u001b[0mconvert_to_data\u001b[0m\u001b[0;34m(\u001b[0m\u001b[0mdata\u001b[0m\u001b[0;34m,\u001b[0m \u001b[0mkeep_index\u001b[0m\u001b[0;34m=\u001b[0m\u001b[0mself\u001b[0m\u001b[0;34m.\u001b[0m\u001b[0mkeep_index\u001b[0m\u001b[0;34m)\u001b[0m\u001b[0;34m\u001b[0m\u001b[0;34m\u001b[0m\u001b[0m\n\u001b[0;32m---> 69\u001b[0;31m         \u001b[0mmodel_null\u001b[0m \u001b[0;34m=\u001b[0m \u001b[0mmatch_model_to_data\u001b[0m\u001b[0;34m(\u001b[0m\u001b[0mself\u001b[0m\u001b[0;34m.\u001b[0m\u001b[0mmodel\u001b[0m\u001b[0;34m,\u001b[0m \u001b[0mself\u001b[0m\u001b[0;34m.\u001b[0m\u001b[0mdata\u001b[0m\u001b[0;34m)\u001b[0m\u001b[0;34m\u001b[0m\u001b[0;34m\u001b[0m\u001b[0m\n\u001b[0m\u001b[1;32m     70\u001b[0m \u001b[0;34m\u001b[0m\u001b[0m\n\u001b[1;32m     71\u001b[0m         \u001b[0;31m# enforce our current input type limitations\u001b[0m\u001b[0;34m\u001b[0m\u001b[0;34m\u001b[0m\u001b[0;34m\u001b[0m\u001b[0m\n",
      "\u001b[0;32m~/opt/anaconda3/envs/keras_env/lib/python3.7/site-packages/shap/utils/_legacy.py\u001b[0m in \u001b[0;36mmatch_model_to_data\u001b[0;34m(model, data)\u001b[0m\n\u001b[1;32m    110\u001b[0m             \u001b[0mout_val\u001b[0m \u001b[0;34m=\u001b[0m \u001b[0mmodel\u001b[0m\u001b[0;34m.\u001b[0m\u001b[0mf\u001b[0m\u001b[0;34m(\u001b[0m\u001b[0mdata\u001b[0m\u001b[0;34m.\u001b[0m\u001b[0mconvert_to_df\u001b[0m\u001b[0;34m(\u001b[0m\u001b[0;34m)\u001b[0m\u001b[0;34m)\u001b[0m\u001b[0;34m\u001b[0m\u001b[0;34m\u001b[0m\u001b[0m\n\u001b[1;32m    111\u001b[0m         \u001b[0;32melse\u001b[0m\u001b[0;34m:\u001b[0m\u001b[0;34m\u001b[0m\u001b[0;34m\u001b[0m\u001b[0m\n\u001b[0;32m--> 112\u001b[0;31m             \u001b[0mout_val\u001b[0m \u001b[0;34m=\u001b[0m \u001b[0mmodel\u001b[0m\u001b[0;34m.\u001b[0m\u001b[0mf\u001b[0m\u001b[0;34m(\u001b[0m\u001b[0mdata\u001b[0m\u001b[0;34m.\u001b[0m\u001b[0mdata\u001b[0m\u001b[0;34m)\u001b[0m\u001b[0;34m\u001b[0m\u001b[0;34m\u001b[0m\u001b[0m\n\u001b[0m\u001b[1;32m    113\u001b[0m     \u001b[0;32mexcept\u001b[0m\u001b[0;34m:\u001b[0m\u001b[0;34m\u001b[0m\u001b[0;34m\u001b[0m\u001b[0m\n\u001b[1;32m    114\u001b[0m         \u001b[0mprint\u001b[0m\u001b[0;34m(\u001b[0m\u001b[0;34m\"Provided model function fails when applied to the provided data set.\"\u001b[0m\u001b[0;34m)\u001b[0m\u001b[0;34m\u001b[0m\u001b[0;34m\u001b[0m\u001b[0m\n",
      "\u001b[0;32m/var/folders/75/5mh9hp1s1xn2ypzg82bcvlnr0000gn/T/ipykernel_53443/820918295.py\u001b[0m in \u001b[0;36mf\u001b[0;34m(X)\u001b[0m\n\u001b[1;32m      1\u001b[0m \u001b[0;32mdef\u001b[0m \u001b[0mf\u001b[0m\u001b[0;34m(\u001b[0m\u001b[0mX\u001b[0m\u001b[0;34m)\u001b[0m\u001b[0;34m:\u001b[0m\u001b[0;34m\u001b[0m\u001b[0;34m\u001b[0m\u001b[0m\n\u001b[0;32m----> 2\u001b[0;31m     \u001b[0;32mreturn\u001b[0m \u001b[0mmodel\u001b[0m\u001b[0;34m.\u001b[0m\u001b[0mpredict\u001b[0m\u001b[0;34m(\u001b[0m\u001b[0;34m[\u001b[0m\u001b[0mX\u001b[0m\u001b[0;34m[\u001b[0m\u001b[0;34m:\u001b[0m\u001b[0;34m,\u001b[0m\u001b[0mi\u001b[0m\u001b[0;34m]\u001b[0m \u001b[0;32mfor\u001b[0m \u001b[0mi\u001b[0m \u001b[0;32min\u001b[0m \u001b[0mrange\u001b[0m\u001b[0;34m(\u001b[0m\u001b[0mX\u001b[0m\u001b[0;34m.\u001b[0m\u001b[0mshape\u001b[0m\u001b[0;34m[\u001b[0m\u001b[0;36m1\u001b[0m\u001b[0;34m]\u001b[0m\u001b[0;34m)\u001b[0m\u001b[0;34m]\u001b[0m\u001b[0;34m)\u001b[0m\u001b[0;34m.\u001b[0m\u001b[0mflatten\u001b[0m\u001b[0;34m(\u001b[0m\u001b[0;34m)\u001b[0m\u001b[0;34m\u001b[0m\u001b[0;34m\u001b[0m\u001b[0m\n\u001b[0m",
      "\u001b[0;32m~/opt/anaconda3/envs/keras_env/lib/python3.7/site-packages/keras/engine/training.py\u001b[0m in \u001b[0;36mpredict\u001b[0;34m(self, x, batch_size, verbose, steps, callbacks, max_queue_size, workers, use_multiprocessing)\u001b[0m\n\u001b[1;32m   1439\u001b[0m \u001b[0;34m\u001b[0m\u001b[0m\n\u001b[1;32m   1440\u001b[0m         \u001b[0;31m# Case 2: Symbolic tensors or Numpy array-like.\u001b[0m\u001b[0;34m\u001b[0m\u001b[0;34m\u001b[0m\u001b[0;34m\u001b[0m\u001b[0m\n\u001b[0;32m-> 1441\u001b[0;31m         \u001b[0mx\u001b[0m\u001b[0;34m,\u001b[0m \u001b[0m_\u001b[0m\u001b[0;34m,\u001b[0m \u001b[0m_\u001b[0m \u001b[0;34m=\u001b[0m \u001b[0mself\u001b[0m\u001b[0;34m.\u001b[0m\u001b[0m_standardize_user_data\u001b[0m\u001b[0;34m(\u001b[0m\u001b[0mx\u001b[0m\u001b[0;34m)\u001b[0m\u001b[0;34m\u001b[0m\u001b[0;34m\u001b[0m\u001b[0m\n\u001b[0m\u001b[1;32m   1442\u001b[0m         \u001b[0;32mif\u001b[0m \u001b[0mself\u001b[0m\u001b[0;34m.\u001b[0m\u001b[0mstateful\u001b[0m\u001b[0;34m:\u001b[0m\u001b[0;34m\u001b[0m\u001b[0;34m\u001b[0m\u001b[0m\n\u001b[1;32m   1443\u001b[0m             \u001b[0;32mif\u001b[0m \u001b[0mx\u001b[0m\u001b[0;34m[\u001b[0m\u001b[0;36m0\u001b[0m\u001b[0;34m]\u001b[0m\u001b[0;34m.\u001b[0m\u001b[0mshape\u001b[0m\u001b[0;34m[\u001b[0m\u001b[0;36m0\u001b[0m\u001b[0;34m]\u001b[0m \u001b[0;34m>\u001b[0m \u001b[0mbatch_size\u001b[0m \u001b[0;32mand\u001b[0m \u001b[0mx\u001b[0m\u001b[0;34m[\u001b[0m\u001b[0;36m0\u001b[0m\u001b[0;34m]\u001b[0m\u001b[0;34m.\u001b[0m\u001b[0mshape\u001b[0m\u001b[0;34m[\u001b[0m\u001b[0;36m0\u001b[0m\u001b[0;34m]\u001b[0m \u001b[0;34m%\u001b[0m \u001b[0mbatch_size\u001b[0m \u001b[0;34m!=\u001b[0m \u001b[0;36m0\u001b[0m\u001b[0;34m:\u001b[0m\u001b[0;34m\u001b[0m\u001b[0;34m\u001b[0m\u001b[0m\n",
      "\u001b[0;32m~/opt/anaconda3/envs/keras_env/lib/python3.7/site-packages/keras/engine/training.py\u001b[0m in \u001b[0;36m_standardize_user_data\u001b[0;34m(self, x, y, sample_weight, class_weight, check_array_lengths, batch_size)\u001b[0m\n\u001b[1;32m    577\u001b[0m             \u001b[0mfeed_input_shapes\u001b[0m\u001b[0;34m,\u001b[0m\u001b[0;34m\u001b[0m\u001b[0;34m\u001b[0m\u001b[0m\n\u001b[1;32m    578\u001b[0m             \u001b[0mcheck_batch_axis\u001b[0m\u001b[0;34m=\u001b[0m\u001b[0;32mFalse\u001b[0m\u001b[0;34m,\u001b[0m  \u001b[0;31m# Don't enforce the batch size.\u001b[0m\u001b[0;34m\u001b[0m\u001b[0;34m\u001b[0m\u001b[0m\n\u001b[0;32m--> 579\u001b[0;31m             exception_prefix='input')\n\u001b[0m\u001b[1;32m    580\u001b[0m \u001b[0;34m\u001b[0m\u001b[0m\n\u001b[1;32m    581\u001b[0m         \u001b[0;32mif\u001b[0m \u001b[0my\u001b[0m \u001b[0;32mis\u001b[0m \u001b[0;32mnot\u001b[0m \u001b[0;32mNone\u001b[0m\u001b[0;34m:\u001b[0m\u001b[0;34m\u001b[0m\u001b[0;34m\u001b[0m\u001b[0m\n",
      "\u001b[0;32m~/opt/anaconda3/envs/keras_env/lib/python3.7/site-packages/keras/engine/training_utils.py\u001b[0m in \u001b[0;36mstandardize_input_data\u001b[0;34m(data, names, shapes, check_batch_axis, exception_prefix)\u001b[0m\n\u001b[1;32m    107\u001b[0m                 \u001b[0;34m'Expected to see '\u001b[0m \u001b[0;34m+\u001b[0m \u001b[0mstr\u001b[0m\u001b[0;34m(\u001b[0m\u001b[0mlen\u001b[0m\u001b[0;34m(\u001b[0m\u001b[0mnames\u001b[0m\u001b[0;34m)\u001b[0m\u001b[0;34m)\u001b[0m \u001b[0;34m+\u001b[0m \u001b[0;34m' array(s), '\u001b[0m\u001b[0;34m\u001b[0m\u001b[0;34m\u001b[0m\u001b[0m\n\u001b[1;32m    108\u001b[0m                 \u001b[0;34m'but instead got the following list of '\u001b[0m \u001b[0;34m+\u001b[0m\u001b[0;34m\u001b[0m\u001b[0;34m\u001b[0m\u001b[0m\n\u001b[0;32m--> 109\u001b[0;31m                 str(len(data)) + ' arrays: ' + str(data)[:200] + '...')\n\u001b[0m\u001b[1;32m    110\u001b[0m         \u001b[0;32melif\u001b[0m \u001b[0mlen\u001b[0m\u001b[0;34m(\u001b[0m\u001b[0mnames\u001b[0m\u001b[0;34m)\u001b[0m \u001b[0;34m>\u001b[0m \u001b[0;36m1\u001b[0m\u001b[0;34m:\u001b[0m\u001b[0;34m\u001b[0m\u001b[0;34m\u001b[0m\u001b[0m\n\u001b[1;32m    111\u001b[0m             raise ValueError(\n",
      "\u001b[0;31mValueError\u001b[0m: Error when checking model input: the list of Numpy arrays that you are passing to your model is not the size the model expected. Expected to see 1 array(s), but instead got the following list of 15 arrays: [array([[0.03561545, 0.03561545, 0.03029567, 0.0492647 , 0.03505058,\n        0.01863826],\n       [0.03218546, 0.03218546, 0.02963105, 0.04541606, 0.03517303,\n        0.02524091],\n       [0.03792726, 0..."
     ]
    }
   ],
   "source": [
    "explainer = shap.KernelExplainer(f, X_train[:50,:])\n",
    "shap_values = explainer.shap_values(X_train[299,:], nsamples=500)"
   ]
  },
  {
   "cell_type": "code",
   "execution_count": 115,
   "id": "53dc29d4",
   "metadata": {},
   "outputs": [],
   "source": [
    "#Make prediction\n",
    "n_days_for_prediction = TIME_STEPS\n",
    "prediction = model.predict(X_train[-n_days_for_prediction:]) \n",
    "#shape = (n, 1) where n is the n_days_for_prediction"
   ]
  },
  {
   "cell_type": "markdown",
   "id": "9d3fb61c",
   "metadata": {},
   "source": [
    "## Perform inverse transform to get back the original data"
   ]
  },
  {
   "cell_type": "code",
   "execution_count": 122,
   "id": "c7db8532",
   "metadata": {},
   "outputs": [],
   "source": [
    "n_past = 17\n",
    "train_dates = pd.to_datetime(data.index)\n",
    "predict_period_dates = pd.date_range(list(train_dates)[-n_past], \n",
    "                    periods=n_days_for_prediction, freq=us_bd).tolist()\n",
    "prediction_copies = np.repeat(prediction, data_scaled.shape[1], \n",
    "                              axis=-1)\n",
    "y_pred_future = scaler.inverse_transform(prediction_copies)[:,0]"
   ]
  },
  {
   "cell_type": "code",
   "execution_count": 129,
   "id": "522a6342",
   "metadata": {},
   "outputs": [],
   "source": [
    "# Convert timestamp to date\n",
    "forecast_dates = []\n",
    "for time_i in predict_period_dates:\n",
    "    forecast_dates.append(time_i.date())\n",
    "    \n",
    "df_forecast = pd.DataFrame({'Date':np.array(forecast_dates), 'Close':y_pred_future})\n",
    "df_forecast['Date']=pd.to_datetime(df_forecast['Date'])"
   ]
  },
  {
   "cell_type": "code",
   "execution_count": 137,
   "id": "fabbb725",
   "metadata": {},
   "outputs": [
    {
     "name": "stderr",
     "output_type": "stream",
     "text": [
      "/Users/dgtzm99/opt/anaconda3/envs/keras_env/lib/python3.7/site-packages/seaborn/_decorators.py:43: FutureWarning: Pass the following variables as keyword args: x, y. From version 0.12, the only valid positional argument will be `data`, and passing other arguments without an explicit keyword will result in an error or misinterpretation.\n",
      "  FutureWarning\n",
      "/Users/dgtzm99/opt/anaconda3/envs/keras_env/lib/python3.7/site-packages/seaborn/_decorators.py:43: FutureWarning: Pass the following variables as keyword args: x, y. From version 0.12, the only valid positional argument will be `data`, and passing other arguments without an explicit keyword will result in an error or misinterpretation.\n",
      "  FutureWarning\n"
     ]
    },
    {
     "data": {
      "text/plain": [
       "<AxesSubplot:xlabel='Date', ylabel='Close'>"
      ]
     },
     "execution_count": 137,
     "metadata": {},
     "output_type": "execute_result"
    },
    {
     "data": {
      "image/png": "[encoded data removed]",
      "text/plain": [
       "<Figure size 432x288 with 1 Axes>"
      ]
     },
     "metadata": {},
     "output_type": "display_data"
    }
   ],
   "source": [
    "import seaborn as sns\n",
    "original = data['Close']\n",
    "#original['Date']=pd.to_datetime(original['Date'])\n",
    "original = original.loc[original.index >= '2022-1-1']\n",
    "\n",
    "sns.lineplot(original.index, original)\n",
    "sns.lineplot(df_forecast['Date'], df_forecast['Close'])"
   ]
  },
  {
   "cell_type": "code",
   "execution_count": 150,
   "id": "121ed669",
   "metadata": {},
   "outputs": [
    {
     "name": "stdout",
     "output_type": "stream",
     "text": [
      "Loading data...\n",
      "25000 train sequences\n",
      "25000 test sequences\n"
     ]
    },
    {
     "name": "stderr",
     "output_type": "stream",
     "text": [
      "/Users/dgtzm99/opt/anaconda3/envs/keras_env/lib/python3.7/site-packages/keras/datasets/imdb.py:101: VisibleDeprecationWarning: Creating an ndarray from ragged nested sequences (which is a list-or-tuple of lists-or-tuples-or ndarrays with different lengths or shapes) is deprecated. If you meant to do this, you must specify 'dtype=object' when creating the ndarray.\n",
      "  x_train, y_train = np.array(xs[:idx]), np.array(labels[:idx])\n",
      "/Users/dgtzm99/opt/anaconda3/envs/keras_env/lib/python3.7/site-packages/keras/datasets/imdb.py:102: VisibleDeprecationWarning: Creating an ndarray from ragged nested sequences (which is a list-or-tuple of lists-or-tuples-or ndarrays with different lengths or shapes) is deprecated. If you meant to do this, you must specify 'dtype=object' when creating the ndarray.\n",
      "  x_test, y_test = np.array(xs[idx:]), np.array(labels[idx:])\n"
     ]
    }
   ],
   "source": [
    "from keras.datasets import imdb\n",
    "from keras.preprocessing import sequence\n",
    "max_features = 20000\n",
    "maxlen = 80  # cut texts after this number of words (among top max_features most common words)\n",
    "batch_size = 32\n",
    "print('Loading data...')\n",
    "(x_train, y_train), (x_test, y_test) = imdb.load_data(num_words=max_features)\n",
    "print(len(x_train), 'train sequences')\n",
    "print(len(x_test), 'test sequences')"
   ]
  },
  {
   "cell_type": "code",
   "execution_count": 151,
   "id": "f3b1964c",
   "metadata": {},
   "outputs": [
    {
     "name": "stdout",
     "output_type": "stream",
     "text": [
      "Pad sequences (samples x time)\n"
     ]
    }
   ],
   "source": [
    "print('Pad sequences (samples x time)')\n",
    "x_train = sequence.pad_sequences(x_train, maxlen=maxlen)\n",
    "x_test = sequence.pad_sequences(x_test, maxlen=maxlen)"
   ]
  },
  {
   "cell_type": "code",
   "execution_count": 154,
   "id": "b7bb14b7",
   "metadata": {},
   "outputs": [
    {
     "data": {
      "text/html": [
       "<div>\n",
       "<style scoped>\n",
       "    .dataframe tbody tr th:only-of-type {\n",
       "        vertical-align: middle;\n",
       "    }\n",
       "\n",
       "    .dataframe tbody tr th {\n",
       "        vertical-align: top;\n",
       "    }\n",
       "\n",
       "    .dataframe thead th {\n",
       "        text-align: right;\n",
       "    }\n",
       "</style>\n",
       "<table border=\"1\" class=\"dataframe\">\n",
       "  <thead>\n",
       "    <tr style=\"text-align: right;\">\n",
       "      <th></th>\n",
       "      <th>0</th>\n",
       "      <th>1</th>\n",
       "      <th>2</th>\n",
       "      <th>3</th>\n",
       "      <th>4</th>\n",
       "      <th>5</th>\n",
       "      <th>6</th>\n",
       "      <th>7</th>\n",
       "      <th>8</th>\n",
       "      <th>9</th>\n",
       "      <th>...</th>\n",
       "      <th>70</th>\n",
       "      <th>71</th>\n",
       "      <th>72</th>\n",
       "      <th>73</th>\n",
       "      <th>74</th>\n",
       "      <th>75</th>\n",
       "      <th>76</th>\n",
       "      <th>77</th>\n",
       "      <th>78</th>\n",
       "      <th>79</th>\n",
       "    </tr>\n",
       "  </thead>\n",
       "  <tbody>\n",
       "    <tr>\n",
       "      <th>0</th>\n",
       "      <td>15</td>\n",
       "      <td>256</td>\n",
       "      <td>4</td>\n",
       "      <td>2</td>\n",
       "      <td>7</td>\n",
       "      <td>3766</td>\n",
       "      <td>5</td>\n",
       "      <td>723</td>\n",
       "      <td>36</td>\n",
       "      <td>71</td>\n",
       "      <td>...</td>\n",
       "      <td>4472</td>\n",
       "      <td>113</td>\n",
       "      <td>103</td>\n",
       "      <td>32</td>\n",
       "      <td>15</td>\n",
       "      <td>16</td>\n",
       "      <td>5345</td>\n",
       "      <td>19</td>\n",
       "      <td>178</td>\n",
       "      <td>32</td>\n",
       "    </tr>\n",
       "    <tr>\n",
       "      <th>1</th>\n",
       "      <td>125</td>\n",
       "      <td>68</td>\n",
       "      <td>2</td>\n",
       "      <td>6853</td>\n",
       "      <td>15</td>\n",
       "      <td>349</td>\n",
       "      <td>165</td>\n",
       "      <td>4362</td>\n",
       "      <td>98</td>\n",
       "      <td>5</td>\n",
       "      <td>...</td>\n",
       "      <td>52</td>\n",
       "      <td>154</td>\n",
       "      <td>462</td>\n",
       "      <td>33</td>\n",
       "      <td>89</td>\n",
       "      <td>78</td>\n",
       "      <td>285</td>\n",
       "      <td>16</td>\n",
       "      <td>145</td>\n",
       "      <td>95</td>\n",
       "    </tr>\n",
       "    <tr>\n",
       "      <th>2</th>\n",
       "      <td>645</td>\n",
       "      <td>662</td>\n",
       "      <td>8</td>\n",
       "      <td>257</td>\n",
       "      <td>85</td>\n",
       "      <td>1200</td>\n",
       "      <td>42</td>\n",
       "      <td>1228</td>\n",
       "      <td>2578</td>\n",
       "      <td>83</td>\n",
       "      <td>...</td>\n",
       "      <td>106</td>\n",
       "      <td>607</td>\n",
       "      <td>624</td>\n",
       "      <td>35</td>\n",
       "      <td>534</td>\n",
       "      <td>6</td>\n",
       "      <td>227</td>\n",
       "      <td>7</td>\n",
       "      <td>129</td>\n",
       "      <td>113</td>\n",
       "    </tr>\n",
       "    <tr>\n",
       "      <th>3</th>\n",
       "      <td>2</td>\n",
       "      <td>14</td>\n",
       "      <td>280</td>\n",
       "      <td>13</td>\n",
       "      <td>219</td>\n",
       "      <td>4</td>\n",
       "      <td>2</td>\n",
       "      <td>431</td>\n",
       "      <td>758</td>\n",
       "      <td>859</td>\n",
       "      <td>...</td>\n",
       "      <td>26</td>\n",
       "      <td>49</td>\n",
       "      <td>7008</td>\n",
       "      <td>15</td>\n",
       "      <td>566</td>\n",
       "      <td>30</td>\n",
       "      <td>579</td>\n",
       "      <td>21</td>\n",
       "      <td>64</td>\n",
       "      <td>2574</td>\n",
       "    </tr>\n",
       "    <tr>\n",
       "      <th>4</th>\n",
       "      <td>56</td>\n",
       "      <td>429</td>\n",
       "      <td>6</td>\n",
       "      <td>1513</td>\n",
       "      <td>18</td>\n",
       "      <td>35</td>\n",
       "      <td>534</td>\n",
       "      <td>95</td>\n",
       "      <td>474</td>\n",
       "      <td>570</td>\n",
       "      <td>...</td>\n",
       "      <td>19</td>\n",
       "      <td>14</td>\n",
       "      <td>5</td>\n",
       "      <td>7224</td>\n",
       "      <td>6</td>\n",
       "      <td>226</td>\n",
       "      <td>251</td>\n",
       "      <td>7</td>\n",
       "      <td>61</td>\n",
       "      <td>113</td>\n",
       "    </tr>\n",
       "    <tr>\n",
       "      <th>...</th>\n",
       "      <td>...</td>\n",
       "      <td>...</td>\n",
       "      <td>...</td>\n",
       "      <td>...</td>\n",
       "      <td>...</td>\n",
       "      <td>...</td>\n",
       "      <td>...</td>\n",
       "      <td>...</td>\n",
       "      <td>...</td>\n",
       "      <td>...</td>\n",
       "      <td>...</td>\n",
       "      <td>...</td>\n",
       "      <td>...</td>\n",
       "      <td>...</td>\n",
       "      <td>...</td>\n",
       "      <td>...</td>\n",
       "      <td>...</td>\n",
       "      <td>...</td>\n",
       "      <td>...</td>\n",
       "      <td>...</td>\n",
       "      <td>...</td>\n",
       "    </tr>\n",
       "    <tr>\n",
       "      <th>24995</th>\n",
       "      <td>15</td>\n",
       "      <td>172</td>\n",
       "      <td>136</td>\n",
       "      <td>4</td>\n",
       "      <td>8827</td>\n",
       "      <td>4322</td>\n",
       "      <td>613</td>\n",
       "      <td>9</td>\n",
       "      <td>6</td>\n",
       "      <td>147</td>\n",
       "      <td>...</td>\n",
       "      <td>5412</td>\n",
       "      <td>198</td>\n",
       "      <td>646</td>\n",
       "      <td>196</td>\n",
       "      <td>17</td>\n",
       "      <td>25</td>\n",
       "      <td>2537</td>\n",
       "      <td>12</td>\n",
       "      <td>17</td>\n",
       "      <td>1219</td>\n",
       "    </tr>\n",
       "    <tr>\n",
       "      <th>24996</th>\n",
       "      <td>4679</td>\n",
       "      <td>140</td>\n",
       "      <td>143</td>\n",
       "      <td>134</td>\n",
       "      <td>2</td>\n",
       "      <td>8</td>\n",
       "      <td>79</td>\n",
       "      <td>27</td>\n",
       "      <td>1484</td>\n",
       "      <td>13</td>\n",
       "      <td>...</td>\n",
       "      <td>7562</td>\n",
       "      <td>13</td>\n",
       "      <td>482</td>\n",
       "      <td>15</td>\n",
       "      <td>5902</td>\n",
       "      <td>2568</td>\n",
       "      <td>4</td>\n",
       "      <td>359</td>\n",
       "      <td>18</td>\n",
       "      <td>2</td>\n",
       "    </tr>\n",
       "    <tr>\n",
       "      <th>24997</th>\n",
       "      <td>529</td>\n",
       "      <td>443</td>\n",
       "      <td>17793</td>\n",
       "      <td>5</td>\n",
       "      <td>27</td>\n",
       "      <td>710</td>\n",
       "      <td>117</td>\n",
       "      <td>2</td>\n",
       "      <td>8123</td>\n",
       "      <td>165</td>\n",
       "      <td>...</td>\n",
       "      <td>1006</td>\n",
       "      <td>541</td>\n",
       "      <td>9303</td>\n",
       "      <td>7</td>\n",
       "      <td>4</td>\n",
       "      <td>59</td>\n",
       "      <td>11027</td>\n",
       "      <td>4</td>\n",
       "      <td>3586</td>\n",
       "      <td>2</td>\n",
       "    </tr>\n",
       "    <tr>\n",
       "      <th>24998</th>\n",
       "      <td>286</td>\n",
       "      <td>1814</td>\n",
       "      <td>23</td>\n",
       "      <td>4</td>\n",
       "      <td>123</td>\n",
       "      <td>13</td>\n",
       "      <td>161</td>\n",
       "      <td>40</td>\n",
       "      <td>5</td>\n",
       "      <td>421</td>\n",
       "      <td>...</td>\n",
       "      <td>5</td>\n",
       "      <td>2</td>\n",
       "      <td>12</td>\n",
       "      <td>38</td>\n",
       "      <td>84</td>\n",
       "      <td>80</td>\n",
       "      <td>124</td>\n",
       "      <td>12</td>\n",
       "      <td>9</td>\n",
       "      <td>23</td>\n",
       "    </tr>\n",
       "    <tr>\n",
       "      <th>24999</th>\n",
       "      <td>97</td>\n",
       "      <td>90</td>\n",
       "      <td>35</td>\n",
       "      <td>221</td>\n",
       "      <td>109</td>\n",
       "      <td>29</td>\n",
       "      <td>127</td>\n",
       "      <td>27</td>\n",
       "      <td>118</td>\n",
       "      <td>8</td>\n",
       "      <td>...</td>\n",
       "      <td>72</td>\n",
       "      <td>7</td>\n",
       "      <td>51</td>\n",
       "      <td>6</td>\n",
       "      <td>1739</td>\n",
       "      <td>22</td>\n",
       "      <td>4</td>\n",
       "      <td>204</td>\n",
       "      <td>131</td>\n",
       "      <td>9</td>\n",
       "    </tr>\n",
       "  </tbody>\n",
       "</table>\n",
       "<p>25000 rows × 80 columns</p>\n",
       "</div>"
      ],
      "text/plain": [
       "         0     1      2     3     4     5    6     7     8    9   ...    70  \\\n",
       "0        15   256      4     2     7  3766    5   723    36   71  ...  4472   \n",
       "1       125    68      2  6853    15   349  165  4362    98    5  ...    52   \n",
       "2       645   662      8   257    85  1200   42  1228  2578   83  ...   106   \n",
       "3         2    14    280    13   219     4    2   431   758  859  ...    26   \n",
       "4        56   429      6  1513    18    35  534    95   474  570  ...    19   \n",
       "...     ...   ...    ...   ...   ...   ...  ...   ...   ...  ...  ...   ...   \n",
       "24995    15   172    136     4  8827  4322  613     9     6  147  ...  5412   \n",
       "24996  4679   140    143   134     2     8   79    27  1484   13  ...  7562   \n",
       "24997   529   443  17793     5    27   710  117     2  8123  165  ...  1006   \n",
       "24998   286  1814     23     4   123    13  161    40     5  421  ...     5   \n",
       "24999    97    90     35   221   109    29  127    27   118    8  ...    72   \n",
       "\n",
       "        71    72    73    74    75     76   77    78    79  \n",
       "0      113   103    32    15    16   5345   19   178    32  \n",
       "1      154   462    33    89    78    285   16   145    95  \n",
       "2      607   624    35   534     6    227    7   129   113  \n",
       "3       49  7008    15   566    30    579   21    64  2574  \n",
       "4       14     5  7224     6   226    251    7    61   113  \n",
       "...    ...   ...   ...   ...   ...    ...  ...   ...   ...  \n",
       "24995  198   646   196    17    25   2537   12    17  1219  \n",
       "24996   13   482    15  5902  2568      4  359    18     2  \n",
       "24997  541  9303     7     4    59  11027    4  3586     2  \n",
       "24998    2    12    38    84    80    124   12     9    23  \n",
       "24999    7    51     6  1739    22      4  204   131     9  \n",
       "\n",
       "[25000 rows x 80 columns]"
      ]
     },
     "execution_count": 154,
     "metadata": {},
     "output_type": "execute_result"
    }
   ],
   "source": [
    "pd.DataFrame(x_train)"
   ]
  }
 ],
 "metadata": {
  "kernelspec": {
   "display_name": "Python 3 (ipykernel)",
   "language": "python",
   "name": "python3"
  },
  "language_info": {
   "codemirror_mode": {
    "name": "ipython",
    "version": 3
   },
   "file_extension": ".py",
   "mimetype": "text/x-python",
   "name": "python",
   "nbconvert_exporter": "python",
   "pygments_lexer": "ipython3",
   "version": "3.9.7"
  },
  "toc": {
   "base_numbering": 1,
   "nav_menu": {},
   "number_sections": true,
   "sideBar": true,
   "skip_h1_title": false,
   "title_cell": "Table of Contents",
   "title_sidebar": "Contents",
   "toc_cell": false,
   "toc_position": {},
   "toc_section_display": true,
   "toc_window_display": true
  }
 },
 "nbformat": 4,
 "nbformat_minor": 5
}
