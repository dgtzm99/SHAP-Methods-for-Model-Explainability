{
 "cells": [
  {
   "cell_type": "code",
   "execution_count": 1,
   "id": "4e7cb06a",
   "metadata": {},
   "outputs": [
    {
     "ename": "ModuleNotFoundError",
     "evalue": "No module named 'tensorflow'",
     "output_type": "error",
     "traceback": [
      "\u001b[0;31m---------------------------------------------------------------------------\u001b[0m",
      "\u001b[0;31mModuleNotFoundError\u001b[0m                       Traceback (most recent call last)",
      "\u001b[0;32m/var/folders/75/5mh9hp1s1xn2ypzg82bcvlnr0000gn/T/ipykernel_28558/430391746.py\u001b[0m in \u001b[0;36m<module>\u001b[0;34m\u001b[0m\n\u001b[1;32m      9\u001b[0m \u001b[0;32mimport\u001b[0m \u001b[0mmatplotlib\u001b[0m\u001b[0;34m.\u001b[0m\u001b[0mpyplot\u001b[0m \u001b[0;32mas\u001b[0m \u001b[0mplt\u001b[0m\u001b[0;34m\u001b[0m\u001b[0;34m\u001b[0m\u001b[0m\n\u001b[1;32m     10\u001b[0m \u001b[0mget_ipython\u001b[0m\u001b[0;34m(\u001b[0m\u001b[0;34m)\u001b[0m\u001b[0;34m.\u001b[0m\u001b[0mrun_line_magic\u001b[0m\u001b[0;34m(\u001b[0m\u001b[0;34m'matplotlib'\u001b[0m\u001b[0;34m,\u001b[0m \u001b[0;34m'inline'\u001b[0m\u001b[0;34m)\u001b[0m\u001b[0;34m\u001b[0m\u001b[0;34m\u001b[0m\u001b[0m\n\u001b[0;32m---> 11\u001b[0;31m \u001b[0;32mimport\u001b[0m \u001b[0mtensorflow\u001b[0m \u001b[0;32mas\u001b[0m \u001b[0mtf\u001b[0m\u001b[0;31m# tensor flow\u001b[0m\u001b[0;34m\u001b[0m\u001b[0;34m\u001b[0m\u001b[0m\n\u001b[0m",
      "\u001b[0;31mModuleNotFoundError\u001b[0m: No module named 'tensorflow'"
     ]
    }
   ],
   "source": [
    "import pandas as pd\n",
    "import numpy as np\n",
    "from sklearn.model_selection import train_test_split\n",
    "from imblearn.over_sampling import RandomOverSampler\n",
    "from sklearn.ensemble import RandomForestClassifier\n",
    "from sklearn.metrics import f1_score, accuracy_score\n",
    "from sklearn.datasets import load_digits\n",
    "import shap\n",
    "import matplotlib.pyplot as plt \n",
    "%matplotlib inline  \n",
    "import tensorflow as tf# tensor flow\n"
   ]
  },
  {
   "cell_type": "code",
   "execution_count": null,
   "id": "4c9bf9c6",
   "metadata": {},
   "outputs": [],
   "source": [
    "tf.__version__"
   ]
  },
  {
   "cell_type": "markdown",
   "id": "b0b31f89",
   "metadata": {},
   "source": [
    "## Deep Learning Introduction\n",
    "We want to find mappings to our inputs to some outputs(some neurons) e.g.<br>\n",
    "![alt text](images/deep_learning.jpeg) <br>\n",
    "- each of those connections have their own **unique weight**\n",
    "- 1 Hidden layer $\\rightarrow$ **Neuaral Network**\n",
    "- 2 $\\leq$ x Hidden layer $\\rightarrow$ **Deep Neuaral Network** <br>\n",
    "![alt text](images/deep_learning2.png) <br>\n",
    "- Outputs also have their **Sinusoidal Activation Function as well**, and adding all of them = 1\n",
    "- We take the arg max of those probabilities and that is the output\n"
   ]
  },
  {
   "cell_type": "markdown",
   "id": "a314e40c",
   "metadata": {},
   "source": [
    "# Load Digits Dataset (MNIST)\n",
    "- Data: 28*28 pxls represented as images of numbers\n",
    "    - Grayscale image: input 0-255 (white-black)\n",
    "- Target: number 0-9"
   ]
  },
  {
   "cell_type": "code",
   "execution_count": null,
   "id": "71502e64",
   "metadata": {},
   "outputs": [],
   "source": [
    "# load dataset\n",
    "mnist = tf.keras.datasets.mnist\n",
    "(x_train, y_train), (x_test, y_test) = mnist.load_data()"
   ]
  },
  {
   "cell_type": "code",
   "execution_count": null,
   "id": "4223e281",
   "metadata": {},
   "outputs": [],
   "source": [
    "plt.imshow(x_train[0], cmap=\"gray\")"
   ]
  },
  {
   "cell_type": "code",
   "execution_count": null,
   "id": "359ffa51",
   "metadata": {},
   "outputs": [],
   "source": [
    "# Normalize (puts values to 0-1) which makes\n",
    "# the neural network easier to learn\n",
    "x_train = tf.keras.utils.normalize(x_train, axis=1)\n",
    "x_test = tf.keras.utils.normalize(x_test, axis=1)"
   ]
  },
  {
   "cell_type": "code",
   "execution_count": null,
   "id": "01738b66",
   "metadata": {},
   "outputs": [],
   "source": [
    "print(\"x_train: \", np.shape(x_train))\n",
    "print(\"y_train: \", np.shape(y_train))\n",
    "print(\"x_test: \", np.shape(x_test))\n",
    "print(\"y_test: \", np.shape(y_test))"
   ]
  },
  {
   "cell_type": "code",
   "execution_count": null,
   "id": "80f21a88",
   "metadata": {},
   "outputs": [],
   "source": [
    "img_rows, img_cols = 28, 28\n",
    "if tf.keras.backend.image_data_format() == 'channels_first':\n",
    "    x_train = x_train.reshape(x_train.shape[0], 1, img_rows, img_cols)\n",
    "    x_test = x_test.reshape(x_test.shape[0], 1, img_rows, img_cols)\n",
    "    input_shape = (1, img_rows, img_cols)\n",
    "else:\n",
    "    x_train = x_train.reshape(x_train.shape[0], img_rows, img_cols, 1)\n",
    "    x_test = x_test.reshape(x_test.shape[0], img_rows, img_cols, 1)\n",
    "    input_shape = (img_rows, img_cols, 1)"
   ]
  },
  {
   "cell_type": "code",
   "execution_count": null,
   "id": "8c33fffb",
   "metadata": {},
   "outputs": [],
   "source": [
    "# 2 types of deep learning models\n",
    "# sequential is most common one\n",
    "seq_model = tf.keras.models.Sequential()\n",
    "# Add our flatten input layer\n",
    "# seq_model.add(tf.keras.layers.Flatten())\n",
    "seq_model.add(tf.keras.layers.Conv2D(32, kernel_size=(3, 3),\n",
    "                 activation='relu',\n",
    "                 input_shape=(28,28,1)))\n",
    "# Dense(#neurons in layer, activation f(x))\n",
    "# Added two hidden layers\n",
    "seq_model.add(tf.keras.layers.Dense(128,activation=tf.nn.relu))\n",
    "seq_model.add(tf.keras.layers.Dense(128,activation=tf.nn.relu))\n",
    "# Add our output layer\n",
    "seq_model.add(tf.keras.layers.Dense(10,activation=tf.nn.softmax))\n",
    "\n",
    "#a NN does not aim to maximize accuracy\n",
    "# NN alwasy tries to minimize loss (degree of error)\n",
    "# so the way to calculate loss impacts greatly the \n",
    "# NN performance\n",
    "seq_model.compile(optimizer='adam',\n",
    "              loss='sparse_categorical_crossentropy',\n",
    "              metrics=['accuracy'])\n",
    "seq_model.fit(x_train, y_train, epochs=3)"
   ]
  },
  {
   "cell_type": "code",
   "execution_count": null,
   "id": "d1aa447b",
   "metadata": {},
   "outputs": [],
   "source": []
  },
  {
   "cell_type": "code",
   "execution_count": null,
   "id": "ec89c51b",
   "metadata": {},
   "outputs": [],
   "source": [
    "val_loss, val_acc = seq_model.evaluate(x_test, y_test)\n",
    "val_loss, val_acc"
   ]
  },
  {
   "cell_type": "code",
   "execution_count": null,
   "id": "be59af21",
   "metadata": {
    "scrolled": true
   },
   "outputs": [],
   "source": [
    "# seq_model.save('epic_num_reader.model')\n",
    "# load_model = tf.keras.models.load_model('epic_num_reader.model')\n",
    "example = 15\n",
    "pred = seq_model.predict([x_test])\n",
    "# argmax because it is a probability distribution\n",
    "print(\"Model predicted: \",np.argmax(pred[example]))\n",
    "print(\"Actual number:\")\n",
    "plt.imshow(x_test[example], cmap=\"gray\")"
   ]
  },
  {
   "cell_type": "code",
   "execution_count": null,
   "id": "8a41ae76",
   "metadata": {},
   "outputs": [],
   "source": [
    "# SHAP explanation\n",
    "background = x_train[:50] #first examples\n",
    "background = x_train[np.random.choice(x_train.shape[0], 100, replace=False)]\n",
    "explainer = shap.DeepExplainer(seq_model, background)"
   ]
  },
  {
   "cell_type": "code",
   "execution_count": null,
   "id": "b50c8afe",
   "metadata": {
    "scrolled": true
   },
   "outputs": [],
   "source": [
    "shap_values = explainer.shap_values(x_test[:5])"
   ]
  },
  {
   "cell_type": "code",
   "execution_count": null,
   "id": "5326e66c",
   "metadata": {},
   "outputs": [],
   "source": [
    "shap.image_plot(shap_values, -x_test[1:5])"
   ]
  },
  {
   "cell_type": "code",
   "execution_count": null,
   "id": "6ed2cd2a",
   "metadata": {},
   "outputs": [],
   "source": [
    "print(\"SHAP version is:\", shap.__version__)\n",
    "print(\"Tensorflow version is:\", tf.__version__)"
   ]
  },
  {
   "cell_type": "code",
   "execution_count": null,
   "id": "324c7fa4",
   "metadata": {},
   "outputs": [],
   "source": []
  },
  {
   "cell_type": "code",
   "execution_count": null,
   "id": "fc352a41",
   "metadata": {},
   "outputs": [],
   "source": []
  },
  {
   "cell_type": "markdown",
   "id": "93611a2a",
   "metadata": {},
   "source": [
    "# Load Digits Dataset (sklearn)\n",
    "- Data: 8*8 pxls represented as images of numbers\n",
    "    - Grayscale image: input 0-16 (white-black)\n",
    "- Target: number 0-9\n",
    "- Samples: 1797 ($\\approx$180 samples per class)"
   ]
  },
  {
   "cell_type": "code",
   "execution_count": null,
   "id": "823be69d",
   "metadata": {},
   "outputs": [],
   "source": [
    "X, y = load_digits(return_X_y=True, as_frame=True)"
   ]
  },
  {
   "cell_type": "code",
   "execution_count": null,
   "id": "0b5bf49d",
   "metadata": {},
   "outputs": [],
   "source": [
    "X.head()"
   ]
  },
  {
   "cell_type": "code",
   "execution_count": null,
   "id": "c3903a5b",
   "metadata": {},
   "outputs": [],
   "source": [
    "X[0:1].to_numpy()\n",
    "plt.imshow(X[0:1].to_numpy())"
   ]
  }
 ],
 "metadata": {
  "kernelspec": {
   "display_name": "Python 3 (ipykernel)",
   "language": "python",
   "name": "python3"
  },
  "language_info": {
   "codemirror_mode": {
    "name": "ipython",
    "version": 3
   },
   "file_extension": ".py",
   "mimetype": "text/x-python",
   "name": "python",
   "nbconvert_exporter": "python",
   "pygments_lexer": "ipython3",
   "version": "3.9.7"
  },
  "toc": {
   "base_numbering": 1,
   "nav_menu": {},
   "number_sections": true,
   "sideBar": true,
   "skip_h1_title": false,
   "title_cell": "Table of Contents",
   "title_sidebar": "Contents",
   "toc_cell": false,
   "toc_position": {},
   "toc_section_display": true,
   "toc_window_display": false
  }
 },
 "nbformat": 4,
 "nbformat_minor": 5
}
