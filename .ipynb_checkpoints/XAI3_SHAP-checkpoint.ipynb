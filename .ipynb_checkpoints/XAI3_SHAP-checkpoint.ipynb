{
 "cells": [
  {
   "cell_type": "code",
   "execution_count": 1,
   "id": "31c27dde",
   "metadata": {},
   "outputs": [],
   "source": [
    "import pandas as pd\n",
    "from sklearn.model_selection import train_test_split\n",
    "#from imblearn.over_sampling import RandomOverSampler\n",
    "from sklearn.ensemble import RandomForestClassifier\n",
    "from sklearn.metrics import f1_score, accuracy_score\n",
    "import shap"
   ]
  },
  {
   "cell_type": "markdown",
   "id": "7e1018b1",
   "metadata": {},
   "source": [
    "Types of **SHAP** techniques (not really **model-agnostic** anymore but boosts performance of specific model):\n",
    "- **KernelSHAP**\n",
    "- **TreeSHAP**\n",
    "- **DeepSHAP**"
   ]
  },
  {
   "cell_type": "markdown",
   "id": "3d3ca0ed",
   "metadata": {},
   "source": [
    "# SHAP\n",
    "**SHapley Additive exPlanations** <br>\n",
    "SHAP comes from **Cooperative Game Theory**<br> <br>\n",
    "- Imagine a game with $x$ players, all of them forming a **coalition**\n",
    "- When the game is over the gain a certain payout compared with their contributions\n",
    "- What is a fair distribution? $\\rightarrow$ **Shapley values**\n",
    "![alt text](images/shap_ex.png) <br>\n",
    "- Players $\\rightarrow$ **Features**\n",
    "- Payout $\\rightarrow$ **Model Prediction**\n",
    "- Game $\\rightarrow$ **ML Blackbox model** <br> <br>\n",
    "**The Main idea** : $\\rightarrow$ How the **prediction** (payout) would perform in different **Coalition** variations. (with or without some players) (every possible subset), then \n",
    "1. We calculate each players contribution for each subset (**coalition**)\n",
    "2. **Averaging** over all this contributions that gives us $\\rightarrow$ **Marginal Contribution** of a player to the team <br> <br>\n",
    "---\n",
    "### The paper (A Unified Approach to Interpreting Model Predictions)\n",
    "The Explainable AI technique **SHAP** simply makes use of these **shapley values** <br>\n",
    "- In general, it is a **local explanation technique** \n",
    "- **AIM:** to explain individual predicitons of black box models\n",
    "- However, it is possible to get **global explanations** through aggregating over these individual predictions<br><br>\n",
    "---\n",
    "### Calculating shapley values\n",
    "$\\phi_i \\rightarrow$ Shapley value for feature $i$ **(e.g.: {Age})**<br>\n",
    "$f \\rightarrow$ Black Box Model<br>\n",
    "$x \\rightarrow$ Input data point<br>\n",
    "$z' \\rightarrow$ Subset **(e.g.: {Age, BMI})**<br>\n",
    "$x' \\rightarrow$ Simplified data input<br>\n",
    "Using a **mapping function** we transform $x \\rightarrow x'$ <br>\n",
    "$z'\\subseteq x' \\rightarrow$ Iterate over all possible combinations of features<br>\n",
    "$f_x(z') \\rightarrow$ Black Box Model output for our input **with** the feature(s) we are interested in **(e.g.:{Age, BMI})**<br>\n",
    "$f_x(z' \\backslash i) \\rightarrow$ Black Box Model output for our input **without** the feature(s) we are interested in **(e.g.:{BMI})**<br>\n",
    "$[f_x(z') - f_x(z' \\backslash i)] \\rightarrow$ Tells us how feature $i$ contributed to that subset. Also called the **marginal value**<br>\n",
    "$M \\rightarrow$ Total number of features<br>\n",
    "$\\frac{|z'|!(M - |z'| - 1)!}{M!} \\rightarrow$ Weighting according to how many players are in that correlation<br><br>\n",
    "$$\\phi_i(f,x) = \\sum_{z'\\subseteq x'} \\frac{|z'|!(M - |z'| - 1)!}{M!} [f_x(z') - f_x(z' \\backslash i)]$$\n",
    "<br>\n",
    "- Intuition: The contribution of adding the feature $i$ should be weighted more if already many features are included in that subset\n",
    "<br>\n",
    "---\n",
    "### How do we exclude a feature from a ML model?\n",
    "![alt text](images/shap_ex2.png)\n",
    "- For the features we want to exclude we just **input random values from the train data set** and do this for all subsets\n",
    "- A random feature has usually no predictive power\n",
    "![alt text](images/shap_ex3.png)\n",
    "<br>\n",
    "---\n",
    "### Complexity of calculating Shapley Values\n",
    "- Where $n$ is the number of features <br>\n",
    "$$2^n = \\text{total number of subsets of a set}$$\n",
    "- For $10$ features:\n",
    "$$2^{10} = 1024$$ <br>\n",
    "> The basic idea is (as presented in the SHAP paper) that we can **simply approximate** the shapley values instead of calculating all possible combinations\n",
    ">> **KernelSHAP** for instance samples feature subsets and fits a linear regression model based on these samples. <br>\n",
    ">> The Variables in this Linear Regression model are simply: if a feature is present or absent. <br>\n",
    ">> After the training the coefficients $\\beta_n$ can be interpreted as approximated **shapley values**. <br>\n",
    ">> $$Y=x_1\\beta_1+x_2\\beta_2+...$$ <br>\n",
    ">> So we weight our samples based on how much information they contain\n",
    "\n",
    "                                                          "
   ]
  },
  {
   "cell_type": "markdown",
   "id": "73862181",
   "metadata": {},
   "source": [
    "# Load and preprocess data"
   ]
  },
  {
   "cell_type": "code",
   "execution_count": 3,
   "id": "3f5e83a8",
   "metadata": {},
   "outputs": [],
   "source": [
    "path = \"src/healthcare-dataset-stroke-data.csv\"\n",
    "stroke_ds = pd.read_csv(path)\n",
    "#Preprocess\n",
    "categorical_cols = [\"gender\",\n",
    "                    \"ever_married\",\n",
    "                    \"work_type\",\n",
    "                    \"Residence_type\",\n",
    "                    \"smoking_status\"]\n",
    "encoded = pd.get_dummies(stroke_ds[categorical_cols], \n",
    "                        prefix=categorical_cols)\n",
    "\n",
    "# Update data with new columns\n",
    "stroke_ds = pd.concat([encoded, stroke_ds], axis=1)\n",
    "stroke_ds.drop(categorical_cols, axis=1, inplace=True)\n",
    "\n",
    "# Impute missing values of BMI\n",
    "stroke_ds.bmi = stroke_ds.bmi.fillna(0)\n",
    "        \n",
    "# Drop id as it is not relevant\n",
    "stroke_ds.drop([\"id\"], axis=1, inplace=True)\n"
   ]
  },
  {
   "cell_type": "markdown",
   "id": "3ac37b2b",
   "metadata": {},
   "source": [
    "# Split the Data for evaluation"
   ]
  },
  {
   "cell_type": "code",
   "execution_count": 4,
   "id": "9ddc239c",
   "metadata": {},
   "outputs": [],
   "source": [
    "def get_data_split(ds):\n",
    "    X = ds.iloc[:,:-1]\n",
    "    y = ds.iloc[:,-1]\n",
    "    return train_test_split(X, y, test_size=0.20, random_state=2021)"
   ]
  },
  {
   "cell_type": "code",
   "execution_count": 5,
   "id": "1e727dc8",
   "metadata": {},
   "outputs": [],
   "source": [
    "X_train, X_test, y_train, y_test = get_data_split(stroke_ds)\n"
   ]
  },
  {
   "cell_type": "markdown",
   "id": "f8374909",
   "metadata": {},
   "source": [
    "# Oversample the train data"
   ]
  },
  {
   "cell_type": "code",
   "execution_count": 6,
   "id": "383f353f",
   "metadata": {},
   "outputs": [],
   "source": [
    "def oversample(X_train, y_train):\n",
    "        oversample = RandomOverSampler(sampling_strategy='minority')\n",
    "        # Convert to numpy and oversample\n",
    "        x_np = X_train.to_numpy()\n",
    "        y_np = y_train.to_numpy()\n",
    "        x_np, y_np = oversample.fit_resample(x_np, y_np)\n",
    "        # Convert back to pandas\n",
    "        x_over = pd.DataFrame(x_np, columns=X_train.columns)\n",
    "        y_over = pd.Series(y_np, name=y_train.name)\n",
    "        return x_over, y_over"
   ]
  },
  {
   "cell_type": "code",
   "execution_count": 7,
   "id": "30dbe726",
   "metadata": {},
   "outputs": [
    {
     "name": "stdout",
     "output_type": "stream",
     "text": [
      "(7778, 21)\n",
      "(1022, 21)\n"
     ]
    }
   ],
   "source": [
    "X_train, y_train = oversample(X_train, y_train)\n",
    "print(X_train.shape)\n",
    "print(X_test.shape)"
   ]
  },
  {
   "cell_type": "markdown",
   "id": "6d5682e3",
   "metadata": {},
   "source": [
    "# Fit Black box model\n",
    "- Random Forest Classifier"
   ]
  },
  {
   "cell_type": "code",
   "execution_count": 8,
   "id": "293f1f3b",
   "metadata": {},
   "outputs": [
    {
     "name": "stdout",
     "output_type": "stream",
     "text": [
      "F1 Score 0.5312473277101878\n",
      "Accuracy 0.9422700587084148\n"
     ]
    }
   ],
   "source": [
    "rf = RandomForestClassifier()\n",
    "rf.fit(X_train, y_train)\n",
    "y_pred = rf.predict(X_test)\n",
    "print(f\"F1 Score {f1_score(y_test, y_pred, average='macro')}\")\n",
    "print(f\"Accuracy {accuracy_score(y_test, y_pred)}\")"
   ]
  },
  {
   "cell_type": "markdown",
   "id": "5ae1dfbd",
   "metadata": {},
   "source": [
    "# Create SHAP Explainer\n",
    "- Computational Complexity of **TreeSHAP:**\n",
    "    - O(# Trees $*$ Max (# Leaves) $*$ Max (Depth) ^2 )"
   ]
  },
  {
   "cell_type": "code",
   "execution_count": 9,
   "id": "5c564e63",
   "metadata": {},
   "outputs": [
    {
     "data": {
      "text/html": [
       "<div>\n",
       "<style scoped>\n",
       "    .dataframe tbody tr th:only-of-type {\n",
       "        vertical-align: middle;\n",
       "    }\n",
       "\n",
       "    .dataframe tbody tr th {\n",
       "        vertical-align: top;\n",
       "    }\n",
       "\n",
       "    .dataframe thead th {\n",
       "        text-align: right;\n",
       "    }\n",
       "</style>\n",
       "<table border=\"1\" class=\"dataframe\">\n",
       "  <thead>\n",
       "    <tr style=\"text-align: right;\">\n",
       "      <th></th>\n",
       "      <th>gender_Female</th>\n",
       "      <th>gender_Male</th>\n",
       "      <th>gender_Other</th>\n",
       "      <th>ever_married_No</th>\n",
       "      <th>ever_married_Yes</th>\n",
       "      <th>work_type_Govt_job</th>\n",
       "      <th>work_type_Never_worked</th>\n",
       "      <th>work_type_Private</th>\n",
       "      <th>work_type_Self-employed</th>\n",
       "      <th>work_type_children</th>\n",
       "      <th>...</th>\n",
       "      <th>Residence_type_Urban</th>\n",
       "      <th>smoking_status_Unknown</th>\n",
       "      <th>smoking_status_formerly smoked</th>\n",
       "      <th>smoking_status_never smoked</th>\n",
       "      <th>smoking_status_smokes</th>\n",
       "      <th>age</th>\n",
       "      <th>hypertension</th>\n",
       "      <th>heart_disease</th>\n",
       "      <th>avg_glucose_level</th>\n",
       "      <th>bmi</th>\n",
       "    </tr>\n",
       "  </thead>\n",
       "  <tbody>\n",
       "    <tr>\n",
       "      <th>2813</th>\n",
       "      <td>0</td>\n",
       "      <td>1</td>\n",
       "      <td>0</td>\n",
       "      <td>0</td>\n",
       "      <td>1</td>\n",
       "      <td>0</td>\n",
       "      <td>0</td>\n",
       "      <td>1</td>\n",
       "      <td>0</td>\n",
       "      <td>0</td>\n",
       "      <td>...</td>\n",
       "      <td>1</td>\n",
       "      <td>0</td>\n",
       "      <td>0</td>\n",
       "      <td>1</td>\n",
       "      <td>0</td>\n",
       "      <td>43.0</td>\n",
       "      <td>0</td>\n",
       "      <td>0</td>\n",
       "      <td>91.13</td>\n",
       "      <td>33.9</td>\n",
       "    </tr>\n",
       "  </tbody>\n",
       "</table>\n",
       "<p>1 rows × 21 columns</p>\n",
       "</div>"
      ],
      "text/plain": [
       "      gender_Female  gender_Male  gender_Other  ever_married_No  \\\n",
       "2813              0            1             0                0   \n",
       "\n",
       "      ever_married_Yes  work_type_Govt_job  work_type_Never_worked  \\\n",
       "2813                 1                   0                       0   \n",
       "\n",
       "      work_type_Private  work_type_Self-employed  work_type_children  ...  \\\n",
       "2813                  1                        0                   0  ...   \n",
       "\n",
       "      Residence_type_Urban  smoking_status_Unknown  \\\n",
       "2813                     1                       0   \n",
       "\n",
       "      smoking_status_formerly smoked  smoking_status_never smoked  \\\n",
       "2813                               0                            1   \n",
       "\n",
       "      smoking_status_smokes   age  hypertension  heart_disease  \\\n",
       "2813                      0  43.0             0              0   \n",
       "\n",
       "      avg_glucose_level   bmi  \n",
       "2813              91.13  33.9  \n",
       "\n",
       "[1 rows x 21 columns]"
      ]
     },
     "execution_count": 9,
     "metadata": {},
     "output_type": "execute_result"
    }
   ],
   "source": [
    "# computes polinomial time the shapley values,\n",
    "# not exponential anymore\n",
    "explainer = shap.TreeExplainer(rf)\n",
    "# Calculate shapley values for test data\n",
    "start_index = 1\n",
    "end_index = 2\n",
    "shap_values = explainer.shap_values(X_test[start_index:end_index])\n",
    "X_test[start_index:end_index]"
   ]
  },
  {
   "cell_type": "markdown",
   "id": "ff220580",
   "metadata": {},
   "source": [
    "# Inspecting the Shapley values (Classification problem)"
   ]
  },
  {
   "cell_type": "code",
   "execution_count": 12,
   "id": "a1a7f5ec",
   "metadata": {},
   "outputs": [
    {
     "name": "stdout",
     "output_type": "stream",
     "text": [
      "(1, 21)\n"
     ]
    },
    {
     "data": {
      "text/plain": [
       "[array([[ 8.11005645e-03,  7.25600919e-03, -8.19756212e-07,\n",
       "         -5.73383184e-03, -5.78219239e-03, -5.59337799e-04,\n",
       "         -2.17492395e-05,  4.09058261e-03,  1.00132022e-02,\n",
       "         -2.67120044e-03,  6.08769287e-03,  8.37975269e-03,\n",
       "         -1.77331785e-04,  1.32757372e-02,  1.36053236e-02,\n",
       "          5.48140724e-03,  2.36514532e-01,  1.20769487e-02,\n",
       "          8.87556173e-03,  9.20369617e-02,  6.83340041e-02]]),\n",
       " array([[-8.11005645e-03, -7.25600919e-03,  8.19756212e-07,\n",
       "          5.73383184e-03,  5.78219239e-03,  5.59337799e-04,\n",
       "          2.17492395e-05, -4.09058261e-03, -1.00132022e-02,\n",
       "          2.67120044e-03, -6.08769287e-03, -8.37975269e-03,\n",
       "          1.77331785e-04, -1.32757372e-02, -1.36053236e-02,\n",
       "         -5.48140724e-03, -2.36514532e-01, -1.20769487e-02,\n",
       "         -8.87556173e-03, -9.20369617e-02, -6.83340041e-02]])]"
      ]
     },
     "execution_count": 12,
     "metadata": {},
     "output_type": "execute_result"
    }
   ],
   "source": [
    "# %% Investigating the values (classification problem)\n",
    "# class 0 = contribution to class 1\n",
    "# class 1 = contribution to class 2\n",
    "print(shap_values[0].shape)\n",
    "shap_values\n",
    "# We have an array of size 2 ([class0(no_stroke)], \n",
    "# [class1(stroke)])"
   ]
  },
  {
   "cell_type": "markdown",
   "id": "3f19a52d",
   "metadata": {},
   "source": [
    "# Visualize local predicitons\n",
    "- **Base Value:** that value is calculated as the average model output"
   ]
  },
  {
   "cell_type": "code",
   "execution_count": 1,
   "id": "daeaeea6",
   "metadata": {},
   "outputs": [
    {
     "ename": "NameError",
     "evalue": "name 'shap' is not defined",
     "output_type": "error",
     "traceback": [
      "\u001b[0;31m---------------------------------------------------------------------------\u001b[0m",
      "\u001b[0;31mNameError\u001b[0m                                 Traceback (most recent call last)",
      "\u001b[0;32m/var/folders/75/5mh9hp1s1xn2ypzg82bcvlnr0000gn/T/ipykernel_3557/2778037543.py\u001b[0m in \u001b[0;36m<module>\u001b[0;34m\u001b[0m\n\u001b[1;32m      1\u001b[0m \u001b[0;31m# %% >> Visualize local predictions\u001b[0m\u001b[0;34m\u001b[0m\u001b[0;34m\u001b[0m\u001b[0m\n\u001b[0;32m----> 2\u001b[0;31m \u001b[0mshap\u001b[0m\u001b[0;34m.\u001b[0m\u001b[0minitjs\u001b[0m\u001b[0;34m(\u001b[0m\u001b[0;34m)\u001b[0m\u001b[0;34m\u001b[0m\u001b[0;34m\u001b[0m\u001b[0m\n\u001b[0m\u001b[1;32m      3\u001b[0m \u001b[0;31m# Force plot: we selected 1 instance\u001b[0m\u001b[0;34m\u001b[0m\u001b[0;34m\u001b[0m\u001b[0m\n\u001b[1;32m      4\u001b[0m \u001b[0mprediction\u001b[0m \u001b[0;34m=\u001b[0m \u001b[0mrf\u001b[0m\u001b[0;34m.\u001b[0m\u001b[0mpredict\u001b[0m\u001b[0;34m(\u001b[0m\u001b[0mX_test\u001b[0m\u001b[0;34m[\u001b[0m\u001b[0mstart_index\u001b[0m\u001b[0;34m:\u001b[0m\u001b[0mend_index\u001b[0m\u001b[0;34m]\u001b[0m\u001b[0;34m)\u001b[0m\u001b[0;34m[\u001b[0m\u001b[0;36m0\u001b[0m\u001b[0;34m]\u001b[0m\u001b[0;34m\u001b[0m\u001b[0;34m\u001b[0m\u001b[0m\n\u001b[1;32m      5\u001b[0m \u001b[0mprint\u001b[0m\u001b[0;34m(\u001b[0m\u001b[0;34mf\"The RF predicted: {prediction}\"\u001b[0m\u001b[0;34m)\u001b[0m\u001b[0;34m\u001b[0m\u001b[0;34m\u001b[0m\u001b[0m\n",
      "\u001b[0;31mNameError\u001b[0m: name 'shap' is not defined"
     ]
    }
   ],
   "source": [
    "# %% >> Visualize local predictions\n",
    "shap.initjs()\n",
    "# Force plot: we selected 1 instance\n",
    "prediction = rf.predict(X_test[start_index:end_index])[0]\n",
    "print(f\"The RF predicted: {prediction}\")\n",
    "shap.force_plot(explainer.expected_value[1],\n",
    "                shap_values[1],\n",
    "                X_test[start_index:end_index]) # for values\n"
   ]
  },
  {
   "cell_type": "markdown",
   "id": "810257ba",
   "metadata": {},
   "source": [
    "# Visualize Global Features"
   ]
  },
  {
   "cell_type": "code",
   "execution_count": 14,
   "id": "5a9cfa55",
   "metadata": {},
   "outputs": [
    {
     "data": {
      "image/png": "[encoded data removed]",
      "text/plain": [
       "<Figure size 576x684 with 1 Axes>"
      ]
     },
     "metadata": {
      "needs_background": "light"
     },
     "output_type": "display_data"
    }
   ],
   "source": [
    "# Feature summary\n",
    "shap.summary_plot(shap_values, X_test)"
   ]
  }
 ],
 "metadata": {
  "kernelspec": {
   "display_name": "Python 3 (ipykernel)",
   "language": "python",
   "name": "python3"
  },
  "language_info": {
   "codemirror_mode": {
    "name": "ipython",
    "version": 3
   },
   "file_extension": ".py",
   "mimetype": "text/x-python",
   "name": "python",
   "nbconvert_exporter": "python",
   "pygments_lexer": "ipython3",
   "version": "3.9.7"
  }
 },
 "nbformat": 4,
 "nbformat_minor": 5
}
