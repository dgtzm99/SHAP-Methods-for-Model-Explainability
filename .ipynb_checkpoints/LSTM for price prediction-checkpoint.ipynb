{
 "cells": [
  {
   "cell_type": "code",
   "execution_count": 110,
   "id": "81a1bcb7",
   "metadata": {},
   "outputs": [],
   "source": [
    "#imports\n",
    "import math\n",
    "import pandas_datareader as web\n",
    "import numpy as np\n",
    "import pandas as pd\n",
    "import datetime\n",
    "\n",
    "from sklearn.metrics import mean_squared_error as mse\n",
    "from sklearn.preprocessing import MinMaxScaler\n",
    "from keras.models import Sequential\n",
    "from keras.layers import Dense, LSTM, Flatten, Dropout\n",
    "import matplotlib.pyplot as plt\n",
    "plt.style.use('fivethirtyeight')"
   ]
  },
  {
   "cell_type": "code",
   "execution_count": 2,
   "id": "8cc3cd6e",
   "metadata": {},
   "outputs": [
    {
     "name": "stdout",
     "output_type": "stream",
     "text": [
      "2.0.0\r\n"
     ]
    }
   ],
   "source": [
    "# check versions\n",
    "!python -c 'import tensorflow as tf; print(tf.__version__)'"
   ]
  },
  {
   "cell_type": "code",
   "execution_count": 3,
   "id": "02ad5d8a",
   "metadata": {},
   "outputs": [
    {
     "name": "stdout",
     "output_type": "stream",
     "text": [
      "Using TensorFlow backend.\n",
      "2.3.1\n"
     ]
    }
   ],
   "source": [
    "!python -c 'import keras as k; print(k.__version__)'"
   ]
  },
  {
   "cell_type": "code",
   "execution_count": null,
   "id": "2852127d",
   "metadata": {},
   "outputs": [],
   "source": []
  },
  {
   "cell_type": "code",
   "execution_count": 80,
   "id": "64ea8b9a",
   "metadata": {},
   "outputs": [],
   "source": [
    "# Stock Variables\n",
    "ASSET = 'BTC'\n",
    "START = '2012-01-01'\n",
    "END = '2021-12-17'\n",
    "YRS = 2\n",
    "TRAIN_LEN = 0.8 # 80%\n",
    "TIME_STEPS = 15"
   ]
  },
  {
   "cell_type": "markdown",
   "id": "83f5784d",
   "metadata": {},
   "source": [
    "# Get data"
   ]
  },
  {
   "cell_type": "code",
   "execution_count": 76,
   "id": "a172c985",
   "metadata": {},
   "outputs": [
    {
     "data": {
      "text/html": [
       "<div>\n",
       "<style scoped>\n",
       "    .dataframe tbody tr th:only-of-type {\n",
       "        vertical-align: middle;\n",
       "    }\n",
       "\n",
       "    .dataframe tbody tr th {\n",
       "        vertical-align: top;\n",
       "    }\n",
       "\n",
       "    .dataframe thead tr th {\n",
       "        text-align: left;\n",
       "    }\n",
       "\n",
       "    .dataframe thead tr:last-of-type th {\n",
       "        text-align: right;\n",
       "    }\n",
       "</style>\n",
       "<table border=\"1\" class=\"dataframe\">\n",
       "  <thead>\n",
       "    <tr>\n",
       "      <th>Attributes</th>\n",
       "      <th>Adj Close</th>\n",
       "      <th>Close</th>\n",
       "      <th>High</th>\n",
       "      <th>Low</th>\n",
       "      <th>Open</th>\n",
       "      <th>Volume</th>\n",
       "    </tr>\n",
       "    <tr>\n",
       "      <th>Symbols</th>\n",
       "      <th>BTC-USD</th>\n",
       "      <th>BTC-USD</th>\n",
       "      <th>BTC-USD</th>\n",
       "      <th>BTC-USD</th>\n",
       "      <th>BTC-USD</th>\n",
       "      <th>BTC-USD</th>\n",
       "    </tr>\n",
       "    <tr>\n",
       "      <th>Date</th>\n",
       "      <th></th>\n",
       "      <th></th>\n",
       "      <th></th>\n",
       "      <th></th>\n",
       "      <th></th>\n",
       "      <th></th>\n",
       "    </tr>\n",
       "  </thead>\n",
       "  <tbody>\n",
       "    <tr>\n",
       "      <th>2022-03-18</th>\n",
       "      <td>41801.156250</td>\n",
       "      <td>41801.156250</td>\n",
       "      <td>42195.746094</td>\n",
       "      <td>40302.398438</td>\n",
       "      <td>40944.839844</td>\n",
       "      <td>34421564942</td>\n",
       "    </tr>\n",
       "    <tr>\n",
       "      <th>2022-03-19</th>\n",
       "      <td>42190.652344</td>\n",
       "      <td>42190.652344</td>\n",
       "      <td>42316.554688</td>\n",
       "      <td>41602.667969</td>\n",
       "      <td>41794.648438</td>\n",
       "      <td>19664853187</td>\n",
       "    </tr>\n",
       "    <tr>\n",
       "      <th>2022-03-20</th>\n",
       "      <td>41247.824219</td>\n",
       "      <td>41247.824219</td>\n",
       "      <td>42241.164062</td>\n",
       "      <td>41004.757812</td>\n",
       "      <td>42191.406250</td>\n",
       "      <td>20127946682</td>\n",
       "    </tr>\n",
       "    <tr>\n",
       "      <th>2022-03-21</th>\n",
       "      <td>41077.996094</td>\n",
       "      <td>41077.996094</td>\n",
       "      <td>41454.410156</td>\n",
       "      <td>40668.042969</td>\n",
       "      <td>41246.132812</td>\n",
       "      <td>24615543271</td>\n",
       "    </tr>\n",
       "    <tr>\n",
       "      <th>2022-03-22</th>\n",
       "      <td>42859.718750</td>\n",
       "      <td>42859.718750</td>\n",
       "      <td>43116.449219</td>\n",
       "      <td>40948.281250</td>\n",
       "      <td>41036.558594</td>\n",
       "      <td>36638003200</td>\n",
       "    </tr>\n",
       "  </tbody>\n",
       "</table>\n",
       "</div>"
      ],
      "text/plain": [
       "Attributes     Adj Close         Close          High           Low  \\\n",
       "Symbols          BTC-USD       BTC-USD       BTC-USD       BTC-USD   \n",
       "Date                                                                 \n",
       "2022-03-18  41801.156250  41801.156250  42195.746094  40302.398438   \n",
       "2022-03-19  42190.652344  42190.652344  42316.554688  41602.667969   \n",
       "2022-03-20  41247.824219  41247.824219  42241.164062  41004.757812   \n",
       "2022-03-21  41077.996094  41077.996094  41454.410156  40668.042969   \n",
       "2022-03-22  42859.718750  42859.718750  43116.449219  40948.281250   \n",
       "\n",
       "Attributes          Open       Volume  \n",
       "Symbols          BTC-USD      BTC-USD  \n",
       "Date                                   \n",
       "2022-03-18  40944.839844  34421564942  \n",
       "2022-03-19  41794.648438  19664853187  \n",
       "2022-03-20  42191.406250  20127946682  \n",
       "2022-03-21  41246.132812  24615543271  \n",
       "2022-03-22  41036.558594  36638003200  "
      ]
     },
     "execution_count": 76,
     "metadata": {},
     "output_type": "execute_result"
    }
   ],
   "source": [
    "# data = web.DataReader('AAPL', data_source='yahoo', start='2012-01-01', \n",
    "#                       end='2019-12-17')\n",
    "today = datetime.date.today()\n",
    "data = web.get_data_yahoo([ASSET + '-USD'], \n",
    "                         start=datetime.datetime(today.year-YRS\n",
    "                                                 , 1, 1), \n",
    "                         end=today)#['Close']\n",
    "\n",
    "data.tail()"
   ]
  },
  {
   "cell_type": "code",
   "execution_count": 77,
   "id": "4fddfe49",
   "metadata": {},
   "outputs": [],
   "source": [
    "# Deleting Symbol header Column names\n",
    "data = data.droplevel(level=1, axis=1)"
   ]
  },
  {
   "cell_type": "code",
   "execution_count": 78,
   "id": "33fd187f",
   "metadata": {},
   "outputs": [
    {
     "name": "stdout",
     "output_type": "stream",
     "text": [
      "<class 'pandas.core.frame.DataFrame'>\n",
      "DatetimeIndex: 812 entries, 2020-01-01 to 2022-03-22\n",
      "Data columns (total 6 columns):\n",
      " #   Column     Non-Null Count  Dtype  \n",
      "---  ------     --------------  -----  \n",
      " 0   Adj Close  812 non-null    float64\n",
      " 1   Close      812 non-null    float64\n",
      " 2   High       812 non-null    float64\n",
      " 3   Low        812 non-null    float64\n",
      " 4   Open       812 non-null    float64\n",
      " 5   Volume     812 non-null    int64  \n",
      "dtypes: float64(5), int64(1)\n",
      "memory usage: 44.4 KB\n"
     ]
    }
   ],
   "source": [
    "# Getting data summary\n",
    "data.info()"
   ]
  },
  {
   "cell_type": "markdown",
   "id": "c1587f13",
   "metadata": {},
   "source": [
    "# Normalize the data\n",
    "Normalizing is usually used since LSTM is sensitive to magnitude in the dataset\n",
    "\n",
    "Which is better?\n",
    "- Standard scaler\n",
    "- MinMaxScaler\n",
    "- Normalize"
   ]
  },
  {
   "cell_type": "code",
   "execution_count": 79,
   "id": "3472da55",
   "metadata": {},
   "outputs": [
    {
     "data": {
      "text/html": [
       "<div>\n",
       "<style scoped>\n",
       "    .dataframe tbody tr th:only-of-type {\n",
       "        vertical-align: middle;\n",
       "    }\n",
       "\n",
       "    .dataframe tbody tr th {\n",
       "        vertical-align: top;\n",
       "    }\n",
       "\n",
       "    .dataframe thead th {\n",
       "        text-align: right;\n",
       "    }\n",
       "</style>\n",
       "<table border=\"1\" class=\"dataframe\">\n",
       "  <thead>\n",
       "    <tr style=\"text-align: right;\">\n",
       "      <th></th>\n",
       "      <th>0</th>\n",
       "      <th>1</th>\n",
       "      <th>2</th>\n",
       "      <th>3</th>\n",
       "      <th>4</th>\n",
       "      <th>5</th>\n",
       "    </tr>\n",
       "  </thead>\n",
       "  <tbody>\n",
       "    <tr>\n",
       "      <th>807</th>\n",
       "      <td>0.599685</td>\n",
       "      <td>0.599685</td>\n",
       "      <td>0.564439</td>\n",
       "      <td>0.587845</td>\n",
       "      <td>0.556090</td>\n",
       "      <td>-0.214831</td>\n",
       "    </tr>\n",
       "    <tr>\n",
       "      <th>808</th>\n",
       "      <td>0.620185</td>\n",
       "      <td>0.620185</td>\n",
       "      <td>0.570628</td>\n",
       "      <td>0.658428</td>\n",
       "      <td>0.600774</td>\n",
       "      <td>-0.946856</td>\n",
       "    </tr>\n",
       "    <tr>\n",
       "      <th>809</th>\n",
       "      <td>0.570562</td>\n",
       "      <td>0.570562</td>\n",
       "      <td>0.566766</td>\n",
       "      <td>0.625971</td>\n",
       "      <td>0.621636</td>\n",
       "      <td>-0.923884</td>\n",
       "    </tr>\n",
       "    <tr>\n",
       "      <th>810</th>\n",
       "      <td>0.561623</td>\n",
       "      <td>0.561623</td>\n",
       "      <td>0.526456</td>\n",
       "      <td>0.607693</td>\n",
       "      <td>0.571932</td>\n",
       "      <td>-0.701271</td>\n",
       "    </tr>\n",
       "    <tr>\n",
       "      <th>811</th>\n",
       "      <td>0.655400</td>\n",
       "      <td>0.655400</td>\n",
       "      <td>0.611611</td>\n",
       "      <td>0.622906</td>\n",
       "      <td>0.560913</td>\n",
       "      <td>-0.104882</td>\n",
       "    </tr>\n",
       "  </tbody>\n",
       "</table>\n",
       "</div>"
      ],
      "text/plain": [
       "            0         1         2         3         4         5\n",
       "807  0.599685  0.599685  0.564439  0.587845  0.556090 -0.214831\n",
       "808  0.620185  0.620185  0.570628  0.658428  0.600774 -0.946856\n",
       "809  0.570562  0.570562  0.566766  0.625971  0.621636 -0.923884\n",
       "810  0.561623  0.561623  0.526456  0.607693  0.571932 -0.701271\n",
       "811  0.655400  0.655400  0.611611  0.622906  0.560913 -0.104882"
      ]
     },
     "execution_count": 79,
     "metadata": {},
     "output_type": "execute_result"
    }
   ],
   "source": [
    "from sklearn.preprocessing import StandardScaler\n",
    "scaler = StandardScaler()\n",
    "scaler = scaler.fit(data)\n",
    "data_scaled = scaler.transform(data)\n",
    "pd.DataFrame(data_scaled).tail()"
   ]
  },
  {
   "cell_type": "code",
   "execution_count": 27,
   "id": "c9ca26cb",
   "metadata": {},
   "outputs": [
    {
     "name": "stderr",
     "output_type": "stream",
     "text": [
      "/Users/dgtzm99/opt/anaconda3/envs/keras_env/lib/python3.7/site-packages/sklearn/utils/validation.py:1692: FutureWarning: Feature names only support names that are all strings. Got feature names with dtypes: ['tuple']. An error will be raised in 1.2.\n",
      "  FutureWarning,\n",
      "/Users/dgtzm99/opt/anaconda3/envs/keras_env/lib/python3.7/site-packages/sklearn/utils/validation.py:1692: FutureWarning: Feature names only support names that are all strings. Got feature names with dtypes: ['tuple']. An error will be raised in 1.2.\n",
      "  FutureWarning,\n"
     ]
    },
    {
     "data": {
      "text/html": [
       "<div>\n",
       "<style scoped>\n",
       "    .dataframe tbody tr th:only-of-type {\n",
       "        vertical-align: middle;\n",
       "    }\n",
       "\n",
       "    .dataframe tbody tr th {\n",
       "        vertical-align: top;\n",
       "    }\n",
       "\n",
       "    .dataframe thead th {\n",
       "        text-align: right;\n",
       "    }\n",
       "</style>\n",
       "<table border=\"1\" class=\"dataframe\">\n",
       "  <thead>\n",
       "    <tr style=\"text-align: right;\">\n",
       "      <th></th>\n",
       "      <th>0</th>\n",
       "      <th>1</th>\n",
       "      <th>2</th>\n",
       "      <th>3</th>\n",
       "      <th>4</th>\n",
       "      <th>5</th>\n",
       "    </tr>\n",
       "  </thead>\n",
       "  <tbody>\n",
       "    <tr>\n",
       "      <th>807</th>\n",
       "      <td>0.588382</td>\n",
       "      <td>0.588382</td>\n",
       "      <td>0.580920</td>\n",
       "      <td>0.581218</td>\n",
       "      <td>0.574643</td>\n",
       "      <td>0.065450</td>\n",
       "    </tr>\n",
       "    <tr>\n",
       "      <th>808</th>\n",
       "      <td>0.594604</td>\n",
       "      <td>0.594604</td>\n",
       "      <td>0.582824</td>\n",
       "      <td>0.602098</td>\n",
       "      <td>0.588229</td>\n",
       "      <td>0.021883</td>\n",
       "    </tr>\n",
       "    <tr>\n",
       "      <th>809</th>\n",
       "      <td>0.579542</td>\n",
       "      <td>0.579542</td>\n",
       "      <td>0.581636</td>\n",
       "      <td>0.592497</td>\n",
       "      <td>0.594573</td>\n",
       "      <td>0.023251</td>\n",
       "    </tr>\n",
       "    <tr>\n",
       "      <th>810</th>\n",
       "      <td>0.576829</td>\n",
       "      <td>0.576829</td>\n",
       "      <td>0.569238</td>\n",
       "      <td>0.587090</td>\n",
       "      <td>0.579460</td>\n",
       "      <td>0.036500</td>\n",
       "    </tr>\n",
       "    <tr>\n",
       "      <th>811</th>\n",
       "      <td>0.605898</td>\n",
       "      <td>0.605898</td>\n",
       "      <td>0.595429</td>\n",
       "      <td>0.591590</td>\n",
       "      <td>0.576109</td>\n",
       "      <td>0.070884</td>\n",
       "    </tr>\n",
       "  </tbody>\n",
       "</table>\n",
       "</div>"
      ],
      "text/plain": [
       "            0         1         2         3         4         5\n",
       "807  0.588382  0.588382  0.580920  0.581218  0.574643  0.065450\n",
       "808  0.594604  0.594604  0.582824  0.602098  0.588229  0.021883\n",
       "809  0.579542  0.579542  0.581636  0.592497  0.594573  0.023251\n",
       "810  0.576829  0.576829  0.569238  0.587090  0.579460  0.036500\n",
       "811  0.605898  0.605898  0.595429  0.591590  0.576109  0.070884"
      ]
     },
     "execution_count": 27,
     "metadata": {},
     "output_type": "execute_result"
    }
   ],
   "source": [
    "scaler = MinMaxScaler(feature_range=(0, 1)) #Also try QuantileTransformer\n",
    "data_scaled = scaler.fit_transform(data)\n",
    "pd.DataFrame(data_scaled).tail()"
   ]
  },
  {
   "cell_type": "markdown",
   "id": "64b9f1d2",
   "metadata": {},
   "source": [
    "# Reshape data for LSTM\n",
    "We reshape input as `(n_samples, timesteps, n_features)`"
   ]
  },
  {
   "cell_type": "code",
   "execution_count": 83,
   "id": "a5fb9227",
   "metadata": {},
   "outputs": [
    {
     "data": {
      "text/plain": [
       "(812, 6)"
      ]
     },
     "execution_count": 83,
     "metadata": {},
     "output_type": "execute_result"
    }
   ],
   "source": [
    "# originial shape [n_samples, n_features]\n",
    "data_scaled.shape"
   ]
  },
  {
   "cell_type": "code",
   "execution_count": 90,
   "id": "ed4039a9",
   "metadata": {},
   "outputs": [],
   "source": [
    "X_train = []\n",
    "y_train = []\n",
    "\n",
    "n_future = 1 # number of day we look into the future\n",
    "# We are predicting Close price\n",
    "target = 1 # Close col\n",
    "\n",
    "for i in range(TIME_STEPS, data_scaled.shape[0] - n_future +1):\n",
    "    X_train.append(data_scaled[i - TIME_STEPS:i, 0:data_scaled.shape[1]])\n",
    "    y_train.append(data_scaled[i + n_future - 1:i + n_future, target])\n",
    "    \n",
    "X_train, y_train = np.array(X_train), np.array(y_train)"
   ]
  },
  {
   "cell_type": "code",
   "execution_count": 108,
   "id": "c3745576",
   "metadata": {},
   "outputs": [
    {
     "name": "stdout",
     "output_type": "stream",
     "text": [
      "X_train shape =  (797, 15, 6)\n",
      "y_train shape =  (797, 1)\n"
     ]
    }
   ],
   "source": [
    "# Keep in mind n_samples gets reduced due to the TIME_STEPS\n",
    "print('X_train shape = ', X_train.shape) \n",
    "print('y_train shape = ', y_train.shape)"
   ]
  },
  {
   "cell_type": "markdown",
   "id": "88a720c7",
   "metadata": {},
   "source": [
    "# Fit LSTM model"
   ]
  },
  {
   "cell_type": "code",
   "execution_count": 112,
   "id": "9e3addde",
   "metadata": {},
   "outputs": [
    {
     "name": "stdout",
     "output_type": "stream",
     "text": [
      "Model: \"sequential_3\"\n",
      "_________________________________________________________________\n",
      "Layer (type)                 Output Shape              Param #   \n",
      "=================================================================\n",
      "lstm_5 (LSTM)                (None, 15, 64)            18176     \n",
      "_________________________________________________________________\n",
      "lstm_6 (LSTM)                (None, 32)                12416     \n",
      "_________________________________________________________________\n",
      "dropout_2 (Dropout)          (None, 32)                0         \n",
      "_________________________________________________________________\n",
      "dense_1 (Dense)              (None, 1)                 33        \n",
      "=================================================================\n",
      "Total params: 30,625\n",
      "Trainable params: 30,625\n",
      "Non-trainable params: 0\n",
      "_________________________________________________________________\n"
     ]
    }
   ],
   "source": [
    "model = Sequential()\n",
    "model.add(LSTM(64, activation='relu', input_shape=(X_train.shape[1], \n",
    "                            X_train.shape[2]), return_sequences=True))\n",
    "model.add(LSTM(32, activation='relu', return_sequences=False))\n",
    "model.add(Dropout(0.2))\n",
    "model.add(Dense(y_train.shape[1]))\n",
    "\n",
    "model.compile(optimizer='adam', loss='mse')\n",
    "model.summary()"
   ]
  },
  {
   "cell_type": "code",
   "execution_count": 113,
   "id": "2fb95e5e",
   "metadata": {},
   "outputs": [
    {
     "name": "stdout",
     "output_type": "stream",
     "text": [
      "Train on 717 samples, validate on 80 samples\n",
      "Epoch 1/5\n",
      "717/717 [==============================] - 5s 7ms/step - loss: 0.3058 - val_loss: 0.0240\n",
      "Epoch 2/5\n",
      "717/717 [==============================] - 3s 4ms/step - loss: 0.0617 - val_loss: 0.0209\n",
      "Epoch 3/5\n",
      "717/717 [==============================] - 3s 4ms/step - loss: 0.0644 - val_loss: 0.0173\n",
      "Epoch 4/5\n",
      "717/717 [==============================] - 3s 4ms/step - loss: 0.0589 - val_loss: 0.0312\n",
      "Epoch 5/5\n",
      "717/717 [==============================] - 3s 5ms/step - loss: 0.0508 - val_loss: 0.0210\n"
     ]
    }
   ],
   "source": [
    "# fit the model\n",
    "history = model.fit(X_train, y_train, epochs=5, batch_size=16, \n",
    "                    validation_split=0.1, verbose=1)"
   ]
  },
  {
   "cell_type": "code",
   "execution_count": 114,
   "id": "c49b12e3",
   "metadata": {},
   "outputs": [
    {
     "data": {
      "text/plain": [
       "<matplotlib.legend.Legend at 0x7fb1ef84c2d0>"
      ]
     },
     "execution_count": 114,
     "metadata": {},
     "output_type": "execute_result"
    },
    {
     "data": {
      "image/png": "[encoded data removed]",
      "text/plain": [
       "<Figure size 432x288 with 1 Axes>"
      ]
     },
     "metadata": {},
     "output_type": "display_data"
    }
   ],
   "source": [
    "plt.plot(history.history['loss'], label='Training loss')\n",
    "plt.plot(history.history['val_loss'], label='Validation loss')\n",
    "plt.legend()"
   ]
  },
  {
   "cell_type": "markdown",
   "id": "e7a144a5",
   "metadata": {},
   "source": [
    "# Make predictions"
   ]
  },
  {
   "cell_type": "code",
   "execution_count": null,
   "id": "41661f79",
   "metadata": {},
   "outputs": [],
   "source": []
  },
  {
   "cell_type": "code",
   "execution_count": null,
   "id": "de589401",
   "metadata": {},
   "outputs": [],
   "source": []
  },
  {
   "cell_type": "code",
   "execution_count": null,
   "id": "aed88f56",
   "metadata": {},
   "outputs": [],
   "source": []
  },
  {
   "cell_type": "code",
   "execution_count": null,
   "id": "c9f19437",
   "metadata": {},
   "outputs": [],
   "source": []
  },
  {
   "cell_type": "code",
   "execution_count": null,
   "id": "d9d1fb44",
   "metadata": {},
   "outputs": [],
   "source": []
  },
  {
   "cell_type": "code",
   "execution_count": null,
   "id": "bf7d8c6f",
   "metadata": {},
   "outputs": [],
   "source": []
  },
  {
   "cell_type": "code",
   "execution_count": null,
   "id": "52ef0b80",
   "metadata": {},
   "outputs": [],
   "source": []
  }
 ],
 "metadata": {
  "kernelspec": {
   "display_name": "Python 3 (ipykernel)",
   "language": "python",
   "name": "python3"
  },
  "language_info": {
   "codemirror_mode": {
    "name": "ipython",
    "version": 3
   },
   "file_extension": ".py",
   "mimetype": "text/x-python",
   "name": "python",
   "nbconvert_exporter": "python",
   "pygments_lexer": "ipython3",
   "version": "3.7.11"
  },
  "toc": {
   "base_numbering": 1,
   "nav_menu": {},
   "number_sections": true,
   "sideBar": true,
   "skip_h1_title": false,
   "title_cell": "Table of Contents",
   "title_sidebar": "Contents",
   "toc_cell": false,
   "toc_position": {},
   "toc_section_display": true,
   "toc_window_display": false
  }
 },
 "nbformat": 4,
 "nbformat_minor": 5
}
