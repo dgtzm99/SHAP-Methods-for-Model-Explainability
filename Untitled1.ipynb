{
 "cells": [
  {
   "cell_type": "code",
   "execution_count": 9,
   "id": "8d9e4c2d",
   "metadata": {},
   "outputs": [],
   "source": [
    "import numpy as np\n",
    "import pandas as pd\n",
    "import matplotlib.pyplot as plt\n",
    "import seaborn as sns\n",
    "import shap\n",
    "from sklearn.linear_model import LogisticRegression\n",
    "from sklearn.linear_model import LinearRegression\n",
    "from sklearn.preprocessing import StandardScaler\n",
    "from sklearn.datasets import make_regression\n",
    "#testing\n",
    "from sklearn.model_selection import train_test_split\n",
    "from sklearn.metrics import f1_score, accuracy_score, mean_squared_error\n",
    "%matplotlib inline"
   ]
  },
  {
   "cell_type": "code",
   "execution_count": 40,
   "id": "d927fbd5",
   "metadata": {},
   "outputs": [],
   "source": [
    "# Defining the dataset\n",
    "X = pd.DataFrame({'a': [2, 4, 8, 0, 3, 6, 9],\n",
    "  'b': [1, 5, 0, 7, 1, -2, 5]})\n",
    "y = 5*X['a'] + 2*X['b'] + 3\n",
    "\n",
    "X, y = make_regression(n_samples=1600, n_features=10,)\n",
    "X = pd.DataFrame(X)"
   ]
  },
  {
   "cell_type": "code",
   "execution_count": 41,
   "id": "227c8247",
   "metadata": {},
   "outputs": [
    {
     "name": "stdout",
     "output_type": "stream",
     "text": [
      "Model coefficients:\n",
      "0 = 68.8925\n",
      "1 = 19.7612\n",
      "2 = 72.2286\n",
      "3 = 83.4672\n",
      "4 = 87.4363\n",
      "5 = 60.7296\n",
      "6 = 17.4736\n",
      "7 = 41.7625\n",
      "8 = 29.5023\n",
      "9 = 24.6635\n"
     ]
    }
   ],
   "source": [
    "# Defining a linear model\n",
    "linear_model = LinearRegression()\n",
    "linear_model.fit(X, y)\n",
    "print(\"Model coefficients:\")\n",
    "for i in range(X.shape[1]):\n",
    "   print(X.columns[i], \"=\", linear_model.coef_[i].round(4))"
   ]
  },
  {
   "cell_type": "code",
   "execution_count": 42,
   "id": "c0f07f8c",
   "metadata": {},
   "outputs": [
    {
     "data": {
      "text/html": [
       "<div>\n",
       "<style scoped>\n",
       "    .dataframe tbody tr th:only-of-type {\n",
       "        vertical-align: middle;\n",
       "    }\n",
       "\n",
       "    .dataframe tbody tr th {\n",
       "        vertical-align: top;\n",
       "    }\n",
       "\n",
       "    .dataframe thead th {\n",
       "        text-align: right;\n",
       "    }\n",
       "</style>\n",
       "<table border=\"1\" class=\"dataframe\">\n",
       "  <thead>\n",
       "    <tr style=\"text-align: right;\">\n",
       "      <th></th>\n",
       "      <th>SHAP_value</th>\n",
       "    </tr>\n",
       "  </thead>\n",
       "  <tbody>\n",
       "    <tr>\n",
       "      <th>0</th>\n",
       "      <td>-36.103288</td>\n",
       "    </tr>\n",
       "    <tr>\n",
       "      <th>1</th>\n",
       "      <td>1.193870</td>\n",
       "    </tr>\n",
       "    <tr>\n",
       "      <th>2</th>\n",
       "      <td>-63.572943</td>\n",
       "    </tr>\n",
       "    <tr>\n",
       "      <th>3</th>\n",
       "      <td>69.577516</td>\n",
       "    </tr>\n",
       "    <tr>\n",
       "      <th>4</th>\n",
       "      <td>-31.263184</td>\n",
       "    </tr>\n",
       "    <tr>\n",
       "      <th>5</th>\n",
       "      <td>-4.321117</td>\n",
       "    </tr>\n",
       "    <tr>\n",
       "      <th>6</th>\n",
       "      <td>14.274144</td>\n",
       "    </tr>\n",
       "    <tr>\n",
       "      <th>7</th>\n",
       "      <td>-21.501395</td>\n",
       "    </tr>\n",
       "    <tr>\n",
       "      <th>8</th>\n",
       "      <td>12.569545</td>\n",
       "    </tr>\n",
       "    <tr>\n",
       "      <th>9</th>\n",
       "      <td>11.596282</td>\n",
       "    </tr>\n",
       "  </tbody>\n",
       "</table>\n",
       "</div>"
      ],
      "text/plain": [
       "   SHAP_value\n",
       "0  -36.103288\n",
       "1    1.193870\n",
       "2  -63.572943\n",
       "3   69.577516\n",
       "4  -31.263184\n",
       "5   -4.321117\n",
       "6   14.274144\n",
       "7  -21.501395\n",
       "8   12.569545\n",
       "9   11.596282"
      ]
     },
     "execution_count": 42,
     "metadata": {},
     "output_type": "execute_result"
    }
   ],
   "source": [
    "shap_values = ((X[:1] - X.mean()) * linear_model.coef_)\n",
    "shap_values_table = shap_values.T\n",
    "shap_values_table.columns = ['SHAP_value']\n",
    "shap_values_table"
   ]
  },
  {
   "cell_type": "code",
   "execution_count": 43,
   "id": "b6e7adf3",
   "metadata": {},
   "outputs": [
    {
     "data": {
      "text/plain": [
       ".values =\n",
       "array([-28.9789987 ,  -0.85207617, -74.00207727,  59.29729377,\n",
       "       -38.37072432,  -1.40252366,   9.69181039, -20.81174376,\n",
       "         8.21221088,  12.97563546])\n",
       "\n",
       ".base_values =\n",
       "23.361727823422175\n",
       "\n",
       ".data =\n",
       "array([-0.51224147,  0.04317077, -0.88034992,  0.85494557, -0.40406611,\n",
       "       -0.1054808 ,  0.77637407, -0.50909845,  0.44894539,  0.4853236 ])"
      ]
     },
     "execution_count": 43,
     "metadata": {},
     "output_type": "execute_result"
    }
   ],
   "source": [
    "explainer = shap.LinearExplainer(linear_model, X)\n",
    "shap_values = explainer(X)\n",
    "shap_values[0]"
   ]
  }
 ],
 "metadata": {
  "kernelspec": {
   "display_name": "Python 3 (ipykernel)",
   "language": "python",
   "name": "python3"
  },
  "language_info": {
   "codemirror_mode": {
    "name": "ipython",
    "version": 3
   },
   "file_extension": ".py",
   "mimetype": "text/x-python",
   "name": "python",
   "nbconvert_exporter": "python",
   "pygments_lexer": "ipython3",
   "version": "3.9.7"
  },
  "toc": {
   "base_numbering": 1,
   "nav_menu": {},
   "number_sections": true,
   "sideBar": true,
   "skip_h1_title": false,
   "title_cell": "Table of Contents",
   "title_sidebar": "Contents",
   "toc_cell": false,
   "toc_position": {},
   "toc_section_display": true,
   "toc_window_display": false
  }
 },
 "nbformat": 4,
 "nbformat_minor": 5
}
