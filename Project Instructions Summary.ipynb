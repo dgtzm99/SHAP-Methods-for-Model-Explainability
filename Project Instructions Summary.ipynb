{
 "cells": [
  {
   "cell_type": "markdown",
   "id": "1dc02079",
   "metadata": {},
   "source": [
    "# Individual Project Guide to Deliverables\n",
    "## 1. Introduction\n",
    "**8 Deliverables for the project**\n",
    "1. Progress Report 1\n",
    "2. Progress Report 2\n",
    "3. Progress Report 3\n",
    "4. Progress Report 4\n",
    "5. Progress Report 5\n",
    "6. BSPR report\n",
    "7. Oral Examination\n",
    "8. Final Report\n",
    "* All of these submissions are considered when deciding the final mark to be awarded for a piece of project work\n"
   ]
  },
  {
   "cell_type": "markdown",
   "id": "7bd31180",
   "metadata": {},
   "source": [
    "## 2. Progress Reports\n",
    "1. present current state of project\n",
    "2. barriers towards progress\n",
    "3. plan of work till next report\n",
    "*** ask supervisor about ethical clearance for my project**"
   ]
  },
  {
   "cell_type": "markdown",
   "id": "95705164",
   "metadata": {},
   "source": [
    "## 3. BSPR - Background and Specification Progress Report\n",
    "1. Background and context for the project\n",
    "2. Review of any relevant literature, including web sites\n",
    "3. Requirements\n",
    "4. Specification\n",
    "5. Design"
   ]
  },
  {
   "cell_type": "markdown",
   "id": "303d5bce",
   "metadata": {},
   "source": [
    "## 4. Final Report\n",
    "**- The body of the report must not exceed 25,000 words** (considerably less)"
   ]
  },
  {
   "cell_type": "markdown",
   "id": "13165c02",
   "metadata": {},
   "source": [
    "# Final Report Submission (8th april)\n",
    "\n"
   ]
  },
  {
   "cell_type": "markdown",
   "id": "a958b125",
   "metadata": {},
   "source": [
    "Submit:\n",
    "1. Main Report\n",
    "    - **The body of the report must not exceed 25,000 words** (considerably less)\n",
    "    \n",
    "\n",
    "2. Appendix and Additional Material\n",
    "    - anything not intellectual property\n",
    "    - e.g. 'library x taken from source y'\n",
    "    \n",
    "\n",
    "3. Source Code\n",
    "    - readme file on how to run code:\n",
    "    - thinking on doing html pages\n",
    "    - **mention package versions**\n",
    "    \n",
    "\n",
    "Limits:\n",
    "- 40MB - Report PDF\n",
    "- 40MB - Appendices\n",
    "- 40MB - Code Zip\n",
    "    \n",
    "    \n",
    "Mark Weights\n",
    "    \n",
    "| **Component**                                   | **Weight**                                   |\n",
    "|-------------------------------------------------|----------------------------------------------|\n",
    "| Introduction                                    | 10%                                          |\n",
    "| Review                                          | 10%                                          |\n",
    "| Specification & Design                          | 15%                                          |\n",
    "| Implementation                                  | 25%                                          |\n",
    "| Evaluation                                      | 20%                                          |\n",
    "| Legal, social, ethical, and professional issues | 10%                                          |\n",
    "| Conclusion                                      | Contributes to Evaluation and Report Quality |\n",
    "| Report Quality                                  | 10%                                          |"
   ]
  },
  {
   "cell_type": "markdown",
   "id": "df490eca",
   "metadata": {},
   "source": [
    "# Presentation Report Submission (14th april)\n",
    "\n",
    "1. Submit a video presentation (10% mark)\n",
    "2. Structure:\n",
    "    - Max 10 minutes\n",
    "    - Focus on **demonstration** of your project, as much as possible\n",
    "    - Give some slides for context\n",
    "3. Some Guidance:\n",
    "    - Focus on telling a story\n",
    "    - Identify a key scenario and walk your audience through it with your software\n",
    "    - Give context of the project in introductory slides, but leave enough time for demonstrating the running sofware\n",
    "    - Stick to the time\n",
    "    "
   ]
  }
 ],
 "metadata": {
  "kernelspec": {
   "display_name": "Python 3 (ipykernel)",
   "language": "python",
   "name": "python3"
  },
  "language_info": {
   "codemirror_mode": {
    "name": "ipython",
    "version": 3
   },
   "file_extension": ".py",
   "mimetype": "text/x-python",
   "name": "python",
   "nbconvert_exporter": "python",
   "pygments_lexer": "ipython3",
   "version": "3.9.7"
  },
  "toc": {
   "base_numbering": 1,
   "nav_menu": {},
   "number_sections": true,
   "sideBar": true,
   "skip_h1_title": false,
   "title_cell": "Table of Contents",
   "title_sidebar": "Contents",
   "toc_cell": false,
   "toc_position": {},
   "toc_section_display": true,
   "toc_window_display": false
  }
 },
 "nbformat": 4,
 "nbformat_minor": 5
}
