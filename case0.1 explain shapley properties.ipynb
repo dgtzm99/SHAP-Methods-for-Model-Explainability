{
 "cells": [
  {
   "cell_type": "code",
   "execution_count": 1,
   "id": "a437654f",
   "metadata": {},
   "outputs": [],
   "source": [
    "import numpy as np\n",
    "import pandas as pd\n",
    "import matplotlib.pyplot as plt\n",
    "import seaborn as sns\n",
    "import shap\n",
    "\n",
    "from sklearn.linear_model import LinearRegression\n",
    "from sklearn.datasets import make_regression\n"
   ]
  },
  {
   "cell_type": "code",
   "execution_count": 10,
   "id": "8d8b95a3",
   "metadata": {},
   "outputs": [],
   "source": [
    "X, y, coef = make_regression(n_samples=200, n_features=10, n_targets=1, \n",
    "                      coef=True, random_state=0)"
   ]
  },
  {
   "cell_type": "code",
   "execution_count": 19,
   "id": "2e0cb4d5",
   "metadata": {},
   "outputs": [
    {
     "data": {
      "text/plain": [
       "(200, 10)"
      ]
     },
     "execution_count": 19,
     "metadata": {},
     "output_type": "execute_result"
    }
   ],
   "source": [
    "##### make two features completely similar (0 and 1)\n",
    "X.shape"
   ]
  },
  {
   "cell_type": "code",
   "execution_count": 23,
   "id": "1f22144c",
   "metadata": {},
   "outputs": [
    {
     "data": {
      "text/html": [
       "<div>\n",
       "<style scoped>\n",
       "    .dataframe tbody tr th:only-of-type {\n",
       "        vertical-align: middle;\n",
       "    }\n",
       "\n",
       "    .dataframe tbody tr th {\n",
       "        vertical-align: top;\n",
       "    }\n",
       "\n",
       "    .dataframe thead th {\n",
       "        text-align: right;\n",
       "    }\n",
       "</style>\n",
       "<table border=\"1\" class=\"dataframe\">\n",
       "  <thead>\n",
       "    <tr style=\"text-align: right;\">\n",
       "      <th></th>\n",
       "      <th>0</th>\n",
       "      <th>1</th>\n",
       "      <th>2</th>\n",
       "      <th>3</th>\n",
       "      <th>4</th>\n",
       "      <th>5</th>\n",
       "      <th>6</th>\n",
       "      <th>7</th>\n",
       "      <th>8</th>\n",
       "      <th>9</th>\n",
       "    </tr>\n",
       "  </thead>\n",
       "  <tbody>\n",
       "    <tr>\n",
       "      <th>0</th>\n",
       "      <td>0.094192</td>\n",
       "      <td>0.289121</td>\n",
       "      <td>0.412871</td>\n",
       "      <td>0.441033</td>\n",
       "      <td>-0.799422</td>\n",
       "      <td>-0.198399</td>\n",
       "      <td>-1.147611</td>\n",
       "      <td>-0.358114</td>\n",
       "      <td>0.178793</td>\n",
       "      <td>0.240788</td>\n",
       "    </tr>\n",
       "    <tr>\n",
       "      <th>1</th>\n",
       "      <td>-0.821535</td>\n",
       "      <td>0.215553</td>\n",
       "      <td>0.568007</td>\n",
       "      <td>0.319118</td>\n",
       "      <td>-1.638424</td>\n",
       "      <td>0.082611</td>\n",
       "      <td>0.018922</td>\n",
       "      <td>-0.082034</td>\n",
       "      <td>0.307265</td>\n",
       "      <td>-1.776389</td>\n",
       "    </tr>\n",
       "    <tr>\n",
       "      <th>2</th>\n",
       "      <td>-1.838847</td>\n",
       "      <td>0.604137</td>\n",
       "      <td>-1.629584</td>\n",
       "      <td>-0.983118</td>\n",
       "      <td>0.802052</td>\n",
       "      <td>-2.121176</td>\n",
       "      <td>1.966764</td>\n",
       "      <td>-0.196234</td>\n",
       "      <td>-0.898322</td>\n",
       "      <td>-1.846532</td>\n",
       "    </tr>\n",
       "    <tr>\n",
       "      <th>3</th>\n",
       "      <td>1.435049</td>\n",
       "      <td>-0.074668</td>\n",
       "      <td>0.258716</td>\n",
       "      <td>0.365849</td>\n",
       "      <td>0.481115</td>\n",
       "      <td>0.275601</td>\n",
       "      <td>0.507239</td>\n",
       "      <td>-0.116230</td>\n",
       "      <td>1.297825</td>\n",
       "      <td>2.759355</td>\n",
       "    </tr>\n",
       "    <tr>\n",
       "      <th>4</th>\n",
       "      <td>0.462782</td>\n",
       "      <td>0.177426</td>\n",
       "      <td>-0.401781</td>\n",
       "      <td>-0.672460</td>\n",
       "      <td>-0.813146</td>\n",
       "      <td>-1.630198</td>\n",
       "      <td>-0.907298</td>\n",
       "      <td>0.051945</td>\n",
       "      <td>-0.359553</td>\n",
       "      <td>-1.726283</td>\n",
       "    </tr>\n",
       "  </tbody>\n",
       "</table>\n",
       "</div>"
      ],
      "text/plain": [
       "          0         1         2         3         4         5         6  \\\n",
       "0  0.094192  0.289121  0.412871  0.441033 -0.799422 -0.198399 -1.147611   \n",
       "1 -0.821535  0.215553  0.568007  0.319118 -1.638424  0.082611  0.018922   \n",
       "2 -1.838847  0.604137 -1.629584 -0.983118  0.802052 -2.121176  1.966764   \n",
       "3  1.435049 -0.074668  0.258716  0.365849  0.481115  0.275601  0.507239   \n",
       "4  0.462782  0.177426 -0.401781 -0.672460 -0.813146 -1.630198 -0.907298   \n",
       "\n",
       "          7         8         9  \n",
       "0 -0.358114  0.178793  0.240788  \n",
       "1 -0.082034  0.307265 -1.776389  \n",
       "2 -0.196234 -0.898322 -1.846532  \n",
       "3 -0.116230  1.297825  2.759355  \n",
       "4  0.051945 -0.359553 -1.726283  "
      ]
     },
     "execution_count": 23,
     "metadata": {},
     "output_type": "execute_result"
    }
   ],
   "source": [
    "pd.DataFrame(X).head()"
   ]
  },
  {
   "cell_type": "code",
   "execution_count": 24,
   "id": "51c48b0e",
   "metadata": {},
   "outputs": [],
   "source": [
    "#### copy values from 0 col to 1 col\n",
    "for i in range(len(X)):\n",
    "    X[i,1] = X[i,0]"
   ]
  },
  {
   "cell_type": "code",
   "execution_count": 25,
   "id": "50ab227d",
   "metadata": {},
   "outputs": [
    {
     "data": {
      "text/html": [
       "<div>\n",
       "<style scoped>\n",
       "    .dataframe tbody tr th:only-of-type {\n",
       "        vertical-align: middle;\n",
       "    }\n",
       "\n",
       "    .dataframe tbody tr th {\n",
       "        vertical-align: top;\n",
       "    }\n",
       "\n",
       "    .dataframe thead th {\n",
       "        text-align: right;\n",
       "    }\n",
       "</style>\n",
       "<table border=\"1\" class=\"dataframe\">\n",
       "  <thead>\n",
       "    <tr style=\"text-align: right;\">\n",
       "      <th></th>\n",
       "      <th>0</th>\n",
       "      <th>1</th>\n",
       "      <th>2</th>\n",
       "      <th>3</th>\n",
       "      <th>4</th>\n",
       "      <th>5</th>\n",
       "      <th>6</th>\n",
       "      <th>7</th>\n",
       "      <th>8</th>\n",
       "      <th>9</th>\n",
       "    </tr>\n",
       "  </thead>\n",
       "  <tbody>\n",
       "    <tr>\n",
       "      <th>0</th>\n",
       "      <td>0.094192</td>\n",
       "      <td>0.094192</td>\n",
       "      <td>0.412871</td>\n",
       "      <td>0.441033</td>\n",
       "      <td>-0.799422</td>\n",
       "      <td>-0.198399</td>\n",
       "      <td>-1.147611</td>\n",
       "      <td>-0.358114</td>\n",
       "      <td>0.178793</td>\n",
       "      <td>0.240788</td>\n",
       "    </tr>\n",
       "    <tr>\n",
       "      <th>1</th>\n",
       "      <td>-0.821535</td>\n",
       "      <td>-0.821535</td>\n",
       "      <td>0.568007</td>\n",
       "      <td>0.319118</td>\n",
       "      <td>-1.638424</td>\n",
       "      <td>0.082611</td>\n",
       "      <td>0.018922</td>\n",
       "      <td>-0.082034</td>\n",
       "      <td>0.307265</td>\n",
       "      <td>-1.776389</td>\n",
       "    </tr>\n",
       "    <tr>\n",
       "      <th>2</th>\n",
       "      <td>-1.838847</td>\n",
       "      <td>-1.838847</td>\n",
       "      <td>-1.629584</td>\n",
       "      <td>-0.983118</td>\n",
       "      <td>0.802052</td>\n",
       "      <td>-2.121176</td>\n",
       "      <td>1.966764</td>\n",
       "      <td>-0.196234</td>\n",
       "      <td>-0.898322</td>\n",
       "      <td>-1.846532</td>\n",
       "    </tr>\n",
       "    <tr>\n",
       "      <th>3</th>\n",
       "      <td>1.435049</td>\n",
       "      <td>1.435049</td>\n",
       "      <td>0.258716</td>\n",
       "      <td>0.365849</td>\n",
       "      <td>0.481115</td>\n",
       "      <td>0.275601</td>\n",
       "      <td>0.507239</td>\n",
       "      <td>-0.116230</td>\n",
       "      <td>1.297825</td>\n",
       "      <td>2.759355</td>\n",
       "    </tr>\n",
       "    <tr>\n",
       "      <th>4</th>\n",
       "      <td>0.462782</td>\n",
       "      <td>0.462782</td>\n",
       "      <td>-0.401781</td>\n",
       "      <td>-0.672460</td>\n",
       "      <td>-0.813146</td>\n",
       "      <td>-1.630198</td>\n",
       "      <td>-0.907298</td>\n",
       "      <td>0.051945</td>\n",
       "      <td>-0.359553</td>\n",
       "      <td>-1.726283</td>\n",
       "    </tr>\n",
       "  </tbody>\n",
       "</table>\n",
       "</div>"
      ],
      "text/plain": [
       "          0         1         2         3         4         5         6  \\\n",
       "0  0.094192  0.094192  0.412871  0.441033 -0.799422 -0.198399 -1.147611   \n",
       "1 -0.821535 -0.821535  0.568007  0.319118 -1.638424  0.082611  0.018922   \n",
       "2 -1.838847 -1.838847 -1.629584 -0.983118  0.802052 -2.121176  1.966764   \n",
       "3  1.435049  1.435049  0.258716  0.365849  0.481115  0.275601  0.507239   \n",
       "4  0.462782  0.462782 -0.401781 -0.672460 -0.813146 -1.630198 -0.907298   \n",
       "\n",
       "          7         8         9  \n",
       "0 -0.358114  0.178793  0.240788  \n",
       "1 -0.082034  0.307265 -1.776389  \n",
       "2 -0.196234 -0.898322 -1.846532  \n",
       "3 -0.116230  1.297825  2.759355  \n",
       "4  0.051945 -0.359553 -1.726283  "
      ]
     },
     "execution_count": 25,
     "metadata": {},
     "output_type": "execute_result"
    }
   ],
   "source": [
    "pd.DataFrame(X).head()"
   ]
  },
  {
   "cell_type": "code",
   "execution_count": 26,
   "id": "6116838d",
   "metadata": {},
   "outputs": [
    {
     "data": {
      "text/plain": [
       "LinearRegression()"
      ]
     },
     "execution_count": 26,
     "metadata": {},
     "output_type": "execute_result"
    }
   ],
   "source": [
    "model = LinearRegression()\n",
    "model.fit(X, y)"
   ]
  },
  {
   "cell_type": "code",
   "execution_count": 27,
   "id": "b3a5978e",
   "metadata": {},
   "outputs": [],
   "source": [
    "explainer = shap.Explainer(model.predict, X)\n",
    "shap_values = explainer(X)"
   ]
  },
  {
   "cell_type": "code",
   "execution_count": 28,
   "id": "01bc0f57",
   "metadata": {},
   "outputs": [
    {
     "data": {
      "image/png": "[encoded data removed]",
      "text/plain": [
       "<Figure size 576x468 with 3 Axes>"
      ]
     },
     "metadata": {},
     "output_type": "display_data"
    }
   ],
   "source": [
    "sample = 5\n",
    "shap.plots.waterfall(shap_values[sample], max_display=14)"
   ]
  },
  {
   "cell_type": "code",
   "execution_count": 29,
   "id": "20ec7e17",
   "metadata": {},
   "outputs": [
    {
     "data": {
      "image/png": "[encoded data removed]",
      "text/plain": [
       "<Figure size 576x468 with 1 Axes>"
      ]
     },
     "metadata": {},
     "output_type": "display_data"
    }
   ],
   "source": [
    "shap.plots.bar(shap_values, max_display=11)"
   ]
  },
  {
   "cell_type": "markdown",
   "id": "24a5ea88",
   "metadata": {},
   "source": [
    "$$\\phi_i = \\frac{1}{|F|!} \\sum_{S \\subset F\\text{\\ }\\{i\\} } (val(S \\cup \\{i\\}) - val(S))$$"
   ]
  }
 ],
 "metadata": {
  "kernelspec": {
   "display_name": "Python 3 (ipykernel)",
   "language": "python",
   "name": "python3"
  },
  "language_info": {
   "codemirror_mode": {
    "name": "ipython",
    "version": 3
   },
   "file_extension": ".py",
   "mimetype": "text/x-python",
   "name": "python",
   "nbconvert_exporter": "python",
   "pygments_lexer": "ipython3",
   "version": "3.7.11"
  },
  "toc": {
   "base_numbering": 1,
   "nav_menu": {},
   "number_sections": true,
   "sideBar": true,
   "skip_h1_title": false,
   "title_cell": "Table of Contents",
   "title_sidebar": "Contents",
   "toc_cell": false,
   "toc_position": {},
   "toc_section_display": true,
   "toc_window_display": false
  }
 },
 "nbformat": 4,
 "nbformat_minor": 5
}
