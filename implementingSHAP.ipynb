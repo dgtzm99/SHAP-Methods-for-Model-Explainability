{
 "cells": [
  {
   "cell_type": "code",
   "execution_count": 1,
   "id": "d3c2e1de",
   "metadata": {},
   "outputs": [],
   "source": [
    "import pandas as pd\n",
    "import numpy as np\n",
    "import shap\n",
    "from sklearn.linear_model import LinearRegression\n",
    "from sklearn.datasets import make_regression\n",
    "from sklearn.model_selection import train_test_split\n",
    "import matplotlib.pyplot as plt\n",
    "import itertools\n",
    "from math import factorial \n",
    "from sklearn.datasets import make_classification\n",
    "from sklearn.preprocessing import binarize"
   ]
  },
  {
   "cell_type": "markdown",
   "id": "c607a60c",
   "metadata": {},
   "source": [
    "# Calculating shapley values\n",
    "$\\phi_i \\rightarrow$ Shapley value for feature $i$ **(e.g.: {Age})**<br>\n",
    "$f \\rightarrow$ Black Box Model<br>\n",
    "$x \\rightarrow$ Input data point<br>\n",
    "$z' \\rightarrow$ Subset **(e.g.: {Age, BMI})**<br>\n",
    "$x' \\rightarrow$ Simplified data input<br>\n",
    "Using a **mapping function** we transform $x \\rightarrow x'$ <br>\n",
    "$z'\\subseteq x' \\rightarrow$ Iterate over all possible combinations of features<br>\n",
    "$f_x(z') \\rightarrow$ Black Box Model output for our input **with** the feature(s) we are interested in **(e.g.:{Age, BMI})**<br>\n",
    "$f_x(z' \\backslash i) \\rightarrow$ Black Box Model output for our input **without** the feature(s) we are interested in **(e.g.:{BMI})**<br>\n",
    "$[f_x(z') - f_x(z' \\backslash i)] \\rightarrow$ Tells us how feature $i$ contributed to that subset. Also called the **marginal value**<br>\n",
    "$M \\rightarrow$ Total number of features<br>\n",
    "$\\frac{|z'|!(M - |z'| - 1)!}{M!} \\rightarrow$ Weighting according to how many players are in that correlation<br><br>\n",
    "$$\\phi_i(f,x) = \\sum_{z'\\subseteq x'} \\frac{|z'|!(M - |z'| - 1)!}{M!} [f_x(z') - f_x(z' \\backslash i)]$$\n",
    "<br>\n",
    "- Intuition: The contribution of adding the feature $i$ should be weighted more if already many features are included in that subset\n",
    "<br>"
   ]
  },
  {
   "cell_type": "markdown",
   "id": "2ae113e0",
   "metadata": {},
   "source": [
    "# Linear SHAP"
   ]
  },
  {
   "cell_type": "code",
   "execution_count": 2,
   "id": "f975779b",
   "metadata": {},
   "outputs": [],
   "source": [
    "# Defining the dataset\n",
    "X = pd.DataFrame({'a': [2, 4, 8, 0, 3, 6, 9],\n",
    "  'b': [1, 5, 0, 7, 1, -2, 5]})\n",
    "y = 5*X['a'] + 2*X['b'] + 3"
   ]
  },
  {
   "cell_type": "code",
   "execution_count": 9,
   "id": "f467aa6c",
   "metadata": {},
   "outputs": [
    {
     "name": "stdout",
     "output_type": "stream",
     "text": [
      "Model coefficients:\n",
      "a = 5.0\n",
      "b = 2.0\n"
     ]
    }
   ],
   "source": [
    "# Defining a linear model\n",
    "linear_model = LinearRegression()\n",
    "linear_model.fit(X, y)\n",
    "print(\"Model coefficients:\")\n",
    "for i in range(X.shape[1]):\n",
    "   print(X.columns[i], \"=\", linear_model.coef_[i].round(4))"
   ]
  },
  {
   "cell_type": "code",
   "execution_count": 11,
   "id": "781ecb7b",
   "metadata": {},
   "outputs": [
    {
     "data": {
      "text/html": [
       "<div>\n",
       "<style scoped>\n",
       "    .dataframe tbody tr th:only-of-type {\n",
       "        vertical-align: middle;\n",
       "    }\n",
       "\n",
       "    .dataframe tbody tr th {\n",
       "        vertical-align: top;\n",
       "    }\n",
       "\n",
       "    .dataframe thead th {\n",
       "        text-align: right;\n",
       "    }\n",
       "</style>\n",
       "<table border=\"1\" class=\"dataframe\">\n",
       "  <thead>\n",
       "    <tr style=\"text-align: right;\">\n",
       "      <th></th>\n",
       "      <th>SHAP_value</th>\n",
       "    </tr>\n",
       "  </thead>\n",
       "  <tbody>\n",
       "    <tr>\n",
       "      <th>a</th>\n",
       "      <td>-12.857143</td>\n",
       "    </tr>\n",
       "    <tr>\n",
       "      <th>b</th>\n",
       "      <td>-2.857143</td>\n",
       "    </tr>\n",
       "  </tbody>\n",
       "</table>\n",
       "</div>"
      ],
      "text/plain": [
       "   SHAP_value\n",
       "a  -12.857143\n",
       "b   -2.857143"
      ]
     },
     "execution_count": 11,
     "metadata": {},
     "output_type": "execute_result"
    }
   ],
   "source": [
    "# Calculate linear SHAP\n",
    "# this are the shapley values for sample 0-1\n",
    "shap_values = ((X[:1] - X.mean()) * linear_model.coef_)\n",
    "shap_values_table = shap_values.T\n",
    "shap_values_table.columns = ['SHAP_value']\n",
    "shap_values_table"
   ]
  },
  {
   "cell_type": "code",
   "execution_count": 14,
   "id": "cc7d75c0",
   "metadata": {},
   "outputs": [
    {
     "data": {
      "text/plain": [
       "array([[-12.85714286,  -2.85714286]])"
      ]
     },
     "execution_count": 14,
     "metadata": {},
     "output_type": "execute_result"
    }
   ],
   "source": [
    "explainer = shap.LinearExplainer(linear_model, X)\n",
    "shap_values = explainer.shap_values(X[:1])\n",
    "shap_values"
   ]
  },
  {
   "cell_type": "code",
   "execution_count": 12,
   "id": "117cad04",
   "metadata": {},
   "outputs": [
    {
     "data": {
      "text/plain": [
       "a    4.571429\n",
       "b    2.428571\n",
       "dtype: float64"
      ]
     },
     "execution_count": 12,
     "metadata": {},
     "output_type": "execute_result"
    }
   ],
   "source": [
    "X.mean()"
   ]
  },
  {
   "cell_type": "code",
   "execution_count": 46,
   "id": "726d838a",
   "metadata": {},
   "outputs": [],
   "source": [
    "newx, newy = make_regression(n_samples=5000, n_features=3)\n",
    "newx = binarize(newx)\n",
    "X_train, X_test, y_train, y_test = train_test_split(newx, newy, \n",
    "                            test_size=0.2, random_state=42)\n",
    "lin = LinearRegression().fit(X_train, y_train)\n",
    "explainer = shap.Explainer(lin.predict, X_test)\n",
    "shap_values2 = explainer(newx)"
   ]
  },
  {
   "cell_type": "code",
   "execution_count": 47,
   "id": "efe4e110",
   "metadata": {},
   "outputs": [
    {
     "data": {
      "image/png": "[encoded data removed]",
      "text/plain": [
       "<Figure size 576x216 with 3 Axes>"
      ]
     },
     "metadata": {},
     "output_type": "display_data"
    }
   ],
   "source": [
    "shap.plots.waterfall(shap_values2[sample_ind], max_display=14)"
   ]
  },
  {
   "cell_type": "code",
   "execution_count": 52,
   "id": "0609ceaf",
   "metadata": {},
   "outputs": [
    {
     "name": "stdout",
     "output_type": "stream",
     "text": [
      "[[1, 0, 0], [0, 0, 0]]\n",
      "[[1, 0, 1], [0, 0, 1]]\n",
      "[[1, 1, 0], [0, 1, 0]]\n"
     ]
    },
    {
     "data": {
      "text/plain": [
       "array([-97.77141982])"
      ]
     },
     "execution_count": 52,
     "metadata": {},
     "output_type": "execute_result"
    }
   ],
   "source": [
    "def get_subsets(x,featnum):\n",
    "    lst = map(list, itertools.product([0, 1], repeat=len(x)))\n",
    "    lst = list(lst)\n",
    "    new_lst = []\n",
    "    for j in lst:\n",
    "        if j[featnum] == 1 and sum(j)!=len(x):\n",
    "            k = j[:]\n",
    "            k[featnum] = 0\n",
    "            new_lst.append([j, k])\n",
    "            print([j, k])\n",
    "    \n",
    "    return new_lst\n",
    "\n",
    "def get_sample(subset, x):\n",
    "    res = []\n",
    "    for i in range(len(subset)):\n",
    "        if subset[i] == 1:\n",
    "            res.append(x[i])\n",
    "        else:\n",
    "            #ISSUE IS: HOW TO DOES SHAP HANDLE RANDOM\n",
    "            res.append(newx[:,i][np.random.randint(0, len(newx))])\n",
    "    return res\n",
    "            \n",
    "def getshap(model, x, feat):\n",
    "    z = get_subsets(x, 0)\n",
    "    total = 0\n",
    "    for subset in z:\n",
    "        mini_z = sum(subset[0])\n",
    "        left = (factorial(mini_z) * factorial(len(x)-mini_z-1)/factorial(len(x)))\n",
    "        right1 = model.predict([get_sample(subset[0], x)])\n",
    "        right2 = model.predict([get_sample(subset[1], x)]) \n",
    "        right = right1 - right2\n",
    "        total = total + (left*right)\n",
    "    return total\n",
    "\n",
    "getshap(lin, newx[sample_ind], 0)"
   ]
  },
  {
   "cell_type": "markdown",
   "id": "bffbeff8",
   "metadata": {},
   "source": [
    "Reinforcement learning can be divided based on whether the machine uses a model to learn or **learns by itself**:\n",
    "- Reinforcement Learnning\n",
    "    - Model-based\n",
    "        - Learn the model\n",
    "        - Given model\n",
    "    - Model-free\n",
    "        - Policy Optimization\n",
    "        - Q-Learning\n",
    "        \n",
    "---\n",
    "\n",
    "New terms:\n",
    "- **Episodes**: When an agent ends up in a terminating state and cant take a new action\n",
    "- **Q-value**: Used to determine how good an Action $A$, taken a particular state $S$ is , that is $Q(A,S)$\n",
    "- **Temporal Difference**: Formula used to find the Q-value by using the value of current state and action and previous state and action\n",
    "<br>\n",
    "- **Bellman Equation:** used to determine the value of a particular state, and deduce how good it is to take that state. The optimal state will give us the highest optimal value.\n",
    "\n",
    "\n",
    "$Q(S,A) \\rightarrow$ Current Q-value<br>\n",
    "$R(S,A) \\rightarrow$ Current Reward<br>\n",
    "$(S,A) \\rightarrow$ Current State and Action<br>\n",
    "$(S',A') \\rightarrow$ Previous State and Action<br>\n",
    "$Max Q'(S',A') \\rightarrow$ Maximum expected future reward<br>\n",
    "$\\lambda \\rightarrow$ discount rate<br>\n",
    "$\\alpha \\rightarrow$ learning reate<br>\n",
    "\n",
    "$$NewQ(S,A) = Q(S,A) + \\alpha [R(S,A) + \\lambda Max Q'(S',A') - Q(S,A)]$$<br>"
   ]
  }
 ],
 "metadata": {
  "kernelspec": {
   "display_name": "Python 3 (ipykernel)",
   "language": "python",
   "name": "python3"
  },
  "language_info": {
   "codemirror_mode": {
    "name": "ipython",
    "version": 3
   },
   "file_extension": ".py",
   "mimetype": "text/x-python",
   "name": "python",
   "nbconvert_exporter": "python",
   "pygments_lexer": "ipython3",
   "version": "3.7.11"
  },
  "toc": {
   "base_numbering": 1,
   "nav_menu": {},
   "number_sections": true,
   "sideBar": true,
   "skip_h1_title": false,
   "title_cell": "Table of Contents",
   "title_sidebar": "Contents",
   "toc_cell": false,
   "toc_position": {},
   "toc_section_display": true,
   "toc_window_display": false
  }
 },
 "nbformat": 4,
 "nbformat_minor": 5
}
