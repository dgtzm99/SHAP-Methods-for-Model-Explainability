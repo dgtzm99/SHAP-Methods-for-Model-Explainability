{
 "cells": [
  {
   "cell_type": "markdown",
   "id": "1dc02079",
   "metadata": {},
   "source": [
    "# Individual Project Guide to Deliverables\n",
    "## 1. Introduction\n",
    "**8 Deliverables for the project**\n",
    "1. Progress Report 1\n",
    "2. Progress Report 2\n",
    "3. Progress Report 3\n",
    "4. Progress Report 4\n",
    "5. Progress Report 5\n",
    "6. BSPR report\n",
    "7. Oral Examination\n",
    "8. Final Report\n",
    "* All of these submissions are considered when deciding the final mark to be awarded for a piece of project work\n"
   ]
  },
  {
   "cell_type": "markdown",
   "id": "7bd31180",
   "metadata": {},
   "source": [
    "## 2. Progress Reports\n",
    "1. present current state of project\n",
    "2. barriers towards progress\n",
    "3. plan of work till next report\n",
    "*** ask supervisor about ethical clearance for my project**"
   ]
  },
  {
   "cell_type": "markdown",
   "id": "95705164",
   "metadata": {},
   "source": [
    "## 3. BSPR - Background and Specification Progress Report\n",
    "1. Background and context for the project\n",
    "2. Review of any relevant literature, including web sites\n",
    "3. Requirements\n",
    "4. Specification\n",
    "5. Design"
   ]
  },
  {
   "cell_type": "markdown",
   "id": "303d5bce",
   "metadata": {},
   "source": [
    "# 4. Final Report\n",
    "**- The body of the report must not exceed 25,000 words** (considerably less)"
   ]
  }
 ],
 "metadata": {
  "kernelspec": {
   "display_name": "Python 3 (ipykernel)",
   "language": "python",
   "name": "python3"
  },
  "language_info": {
   "codemirror_mode": {
    "name": "ipython",
    "version": 3
   },
   "file_extension": ".py",
   "mimetype": "text/x-python",
   "name": "python",
   "nbconvert_exporter": "python",
   "pygments_lexer": "ipython3",
   "version": "3.9.7"
  }
 },
 "nbformat": 4,
 "nbformat_minor": 5
}
